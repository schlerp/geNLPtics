{
 "cells": [
  {
   "cell_type": "code",
   "execution_count": 1,
   "metadata": {},
   "outputs": [
    {
     "name": "stdout",
     "output_type": "stream",
     "text": [
      "Python 3.10.2\n"
     ]
    }
   ],
   "source": [
    "!python -V"
   ]
  },
  {
   "cell_type": "code",
   "execution_count": 2,
   "metadata": {},
   "outputs": [],
   "source": [
    "import random\n",
    "import re\n",
    "from typing import Dict, Tuple"
   ]
  },
  {
   "cell_type": "code",
   "execution_count": 3,
   "metadata": {},
   "outputs": [],
   "source": [
    "sequence_a = \"AGTCGACCAGTGGGTATA\"\n",
    "sequence_b = \"GCAGTCGTACCAAGTGGG\"\n",
    "aligned_a  = \"..AGTCG.ACCA.GTGGGTATA\"\n",
    "aligned_b  = \"GCAGTCGTACCAAGTGGG....\""
   ]
  },
  {
   "cell_type": "code",
   "execution_count": 4,
   "metadata": {},
   "outputs": [],
   "source": [
    "def score_sequences(a: str, b: str):\n",
    "    assert len(a) == len(b)\n",
    "    score = 0\n",
    "    for i in range(len(a)):\n",
    "        if a[i] == \".\" or b[i] == \".\":\n",
    "            score += 0.1\n",
    "        elif a[i] == b[i]:\n",
    "            score += 1\n",
    "        else:\n",
    "            score += 0\n",
    "    return score / (len(a) * 1.1)"
   ]
  },
  {
   "cell_type": "code",
   "execution_count": 5,
   "metadata": {},
   "outputs": [
    {
     "name": "stdout",
     "output_type": "stream",
     "text": [
      "0.15151515151515152\n"
     ]
    }
   ],
   "source": [
    "score = score_sequences(sequence_a, sequence_b)\n",
    "print(score)"
   ]
  },
  {
   "cell_type": "code",
   "execution_count": 6,
   "metadata": {},
   "outputs": [
    {
     "name": "stdout",
     "output_type": "stream",
     "text": [
      "0.6115702479338841\n"
     ]
    }
   ],
   "source": [
    "score = score_sequences(aligned_a, aligned_b)\n",
    "print(score)"
   ]
  },
  {
   "cell_type": "code",
   "execution_count": 7,
   "metadata": {},
   "outputs": [],
   "source": [
    "def append_end(x: str, insert_char: str = \".\"):\n",
    "    return x + insert_char\n",
    "\n",
    "def append_start(x: str, insert_char: str = \".\"):\n",
    "    return insert_char + x\n",
    "\n",
    "def insert_random(x: str, insert_char: str = \".\"):\n",
    "    random_index = random.randint(0, len(x)-1)\n",
    "    return x[:random_index] + insert_char + x[random_index:]\n",
    "\n",
    "def remove_random_space(x: str, insert_char: str = \"\\.\"):\n",
    "    indexes = [y.start() for y in re.finditer(insert_char, x)]\n",
    "    if not indexes:\n",
    "        return x\n",
    "    random_index = random.choice(indexes)\n",
    "    return x[:random_index] + x[random_index+1:]\n",
    "\n",
    "def trim_extra_gaps(a, b, insert_char: str = \".\"):\n",
    "    new_a = \"\"\n",
    "    new_b = \"\"\n",
    "    for i in range(len(a)):\n",
    "        if a[i] == insert_char and b[i] == insert_char:\n",
    "            pass\n",
    "        else:\n",
    "            new_a += a[i]\n",
    "            new_b += b[i]\n",
    "    return new_a, new_b"
   ]
  },
  {
   "cell_type": "code",
   "execution_count": 8,
   "metadata": {},
   "outputs": [
    {
     "name": "stdout",
     "output_type": "stream",
     "text": [
      "ab\n"
     ]
    }
   ],
   "source": [
    "# s = \"aa\"\n",
    "# print(append_end(s))\n",
    "# print(append_start(s))\n",
    "# print(insert_random(s))\n",
    "print(remove_random_space(\"a.b\"))"
   ]
  },
  {
   "cell_type": "code",
   "execution_count": 9,
   "metadata": {},
   "outputs": [
    {
     "name": "stdout",
     "output_type": "stream",
     "text": [
      "score increased from 0.15151515151515152 to 0.15311004784688995\n",
      "score increased from 0.15311004784688995 to 0.2909090909090909\n",
      "score increased from 0.2909090909090909 to 0.36796536796536794\n",
      "score increased from 0.36796536796536794 to 0.40082644628099157\n",
      "score increased from 0.40082644628099157 to 0.43083003952569154\n",
      "score increased from 0.43083003952569154 to 0.4583333333333332\n",
      "score increased from 0.4583333333333332 to 0.4763636363636362\n",
      "..AGTCGA.CC.AGTGGGTATA\n",
      "GCAGTCGTACCAAGTG.G.G..\n"
     ]
    }
   ],
   "source": [
    "a = sequence_a\n",
    "b = sequence_b\n",
    "\n",
    "i = 0\n",
    "while i < 1000000:\n",
    "    i += 1\n",
    "    score = score_sequences(a, b)\n",
    "    # if random.random() > 0.5:\n",
    "        # add char\n",
    "    funcs = [append_start, append_end, insert_random]\n",
    "    a_new = random.choice(funcs)(a)\n",
    "    b_new = random.choice(funcs)(b)\n",
    "    # else:\n",
    "    #     # remove char\n",
    "    #     a_new = remove_random_space(a)\n",
    "    #     b_new = remove_random_space(b)\n",
    "\n",
    "    new_score = score_sequences(a_new, b_new)\n",
    "    if new_score > score:\n",
    "        print(\"score increased from {} to {}\".format(score, new_score))\n",
    "        a = a_new\n",
    "        b = b_new\n",
    "    # if new_score >= 1.0:\n",
    "    #     break\n",
    "    # if i % 250 == 0:\n",
    "    #     a, b = trim_extra_gaps(a, b)\n",
    "\n",
    "a, b = trim_extra_gaps(a, b)\n",
    "print(a)\n",
    "print(b)\n"
   ]
  },
  {
   "cell_type": "code",
   "execution_count": 10,
   "metadata": {},
   "outputs": [],
   "source": [
    "class MatchPenalties:\n",
    "    def __init__(\n",
    "        self, \n",
    "        match: int = 12,\n",
    "        mismatch: int = -6,\n",
    "        gap: int = -10,\n",
    "    ): \n",
    "        self.match = match\n",
    "        self.mismatch = mismatch\n",
    "        self.gap = gap"
   ]
  },
  {
   "cell_type": "code",
   "execution_count": 11,
   "metadata": {},
   "outputs": [],
   "source": [
    "class Node:\n",
    "    def __init__(\n",
    "        self,\n",
    "        match_type: int,\n",
    "        t_max: int,\n",
    "        t_min: int,\n",
    "        prs: int,\n",
    "        score: int,\n",
    "        p1: int,\n",
    "        p2: int\n",
    "    ):\n",
    "        self.match_type = match_type\n",
    "        self.t_max = t_max\n",
    "        self.t_min = t_min\n",
    "        self.prs = prs\n",
    "        self.score = score\n",
    "        self.p1 = p1\n",
    "        self.p2 = p2\n",
    "\n",
    "    def __str__(self):\n",
    "        return str(self.__dict__)\n",
    "\n",
    "    def __repr__(self):\n",
    "        return self.__str__()"
   ]
  },
  {
   "cell_type": "code",
   "execution_count": 12,
   "metadata": {},
   "outputs": [],
   "source": [
    "def calc_f_score(x1: int, x2: int, match_mismatch: int, gap: int):\n",
    "    if x2 < x1:\n",
    "        return x2 * (match_mismatch + gap) * (x1 - x2)\n",
    "    return x1 * (match_mismatch + gap) * (x2 - x1)\n",
    "\n",
    "\n",
    "def calc_score(s1: str, s2: str, p1: int, p2: int, match_type: int, match_penalties: MatchPenalties):\n",
    "    if match_type == 1:\n",
    "        if s1[p1] == s2[p2]:\n",
    "            return match_penalties.match\n",
    "        return match_penalties.mismatch\n",
    "    return match_penalties.gap"
   ]
  },
  {
   "cell_type": "code",
   "execution_count": 28,
   "metadata": {},
   "outputs": [],
   "source": [
    "def process_node(s1: str, s2: str, p1: int, p2: int, match_type: int, prs: int, match_penalties: MatchPenalties):\n",
    "    m = len(s1)\n",
    "    n = len(s2)\n",
    "    x1 = n - p2\n",
    "    x2 = m - p1\n",
    "    return Node(\n",
    "        match_type=match_type, \n",
    "        t_max=prs+calc_f_score(x1, x2, match_penalties.match, match_penalties.gap), \n",
    "        t_min=prs+calc_f_score(x1, x2, match_penalties.mismatch, match_penalties.gap),\n",
    "        prs=prs,\n",
    "        score=prs+calc_score(s1, s2, p1, p2, match_type, match_penalties),\n",
    "        p1=p1,\n",
    "        p2=p2,\n",
    "    )"
   ]
  },
  {
   "cell_type": "code",
   "execution_count": 32,
   "metadata": {},
   "outputs": [
    {
     "name": "stdout",
     "output_type": "stream",
     "text": [
      "{'match_type': 2, 't_max': 12, 't_min': -96, 'score': -10, 'p1': 1, 'p2': 0}\n",
      "{'match_type': 2, 't_max': 10, 't_min': -170, 'score': -20, 'p1': 2, 'p2': 0}\n",
      "{'match_type': 2, 't_max': 4, 't_min': -212, 'score': -30, 'p1': 3, 'p2': 0}\n",
      "{'match_type': 2, 't_max': -6, 't_min': -222, 'score': -40, 'p1': 4, 'p2': 0}\n",
      "{'match_type': 2, 't_max': -20, 't_min': -200, 'score': -50, 'p1': 5, 'p2': 0}\n",
      "{'match_type': 3, 't_max': -34, 't_min': -178, 'score': -60, 'p1': 5, 'p2': 1}\n",
      "{'match_type': 3, 't_max': -48, 't_min': -156, 'score': -70, 'p1': 5, 'p2': 2}\n",
      "{'match_type': 2, 't_max': -62, 't_min': -134, 'score': -80, 'p1': 6, 'p2': 2}\n",
      "{(0, 0): {'match_type': 1, 't_max': 0, 't_min': 0, 'score': 12, 'p1': 0, 'p2': 0}, (1, 0): {'match_type': 2, 't_max': 12, 't_min': -96, 'score': -10, 'p1': 1, 'p2': 0}, (0, 1): {'match_type': 3, 't_max': 12, 't_min': -96, 'score': -10, 'p1': 0, 'p2': 1}, (2, 1): {'match_type': 3, 't_max': -10, 't_min': -100, 'score': -30, 'p1': 2, 'p2': 1}, (2, 0): {'match_type': 2, 't_max': 10, 't_min': -170, 'score': -20, 'p1': 2, 'p2': 0}, (1, 1): {'match_type': 3, 't_max': -10, 't_min': -10, 'score': -20, 'p1': 1, 'p2': 1}, (3, 1): {'match_type': 3, 't_max': -14, 't_min': -158, 'score': -40, 'p1': 3, 'p2': 1}, (3, 0): {'match_type': 2, 't_max': 4, 't_min': -212, 'score': -30, 'p1': 3, 'p2': 0}, (4, 1): {'match_type': 3, 't_max': -22, 't_min': -184, 'score': -50, 'p1': 4, 'p2': 1}, (4, 0): {'match_type': 2, 't_max': -6, 't_min': -222, 'score': -40, 'p1': 4, 'p2': 0}, (5, 1): {'match_type': 3, 't_max': -34, 't_min': -178, 'score': -60, 'p1': 5, 'p2': 1}, (5, 0): {'match_type': 2, 't_max': -20, 't_min': -200, 'score': -50, 'p1': 5, 'p2': 0}, (6, 1): {'match_type': 2, 't_max': -50, 't_min': -140, 'score': -70, 'p1': 6, 'p2': 1}, (6, 0): {'match_type': 2, 't_max': -38, 't_min': -146, 'score': -60, 'p1': 6, 'p2': 0}, (6, 2): {'match_type': 2, 't_max': -62, 't_min': -134, 'score': -80, 'p1': 6, 'p2': 2}, (5, 2): {'match_type': 3, 't_max': -48, 't_min': -156, 'score': -70, 'p1': 5, 'p2': 2}, (6, 3): {'match_type': 1, 't_max': -64, 't_min': -118, 'score': -76, 'p1': 6, 'p2': 3}, (5, 3): {'match_type': 3, 't_max': -62, 't_min': -134, 'score': -80, 'p1': 5, 'p2': 3}}\n"
     ]
    }
   ],
   "source": [
    "def solve_fogsaa(s1: str, s2: str, match_penalties: MatchPenalties = MatchPenalties()):\n",
    "    p1 = 0\n",
    "    p2 = 0\n",
    "    \n",
    "    history: Dict[Tuple(int, int), Node] = {}\n",
    "\n",
    "    prs = 0\n",
    "\n",
    "    history[(p1, p2)] = match_ab = process_node(s1, s2, p1, p2, match_type=1, prs=prs, match_penalties=match_penalties)\n",
    "    history[(p1+1, p2)] = match_Ab = process_node(s1, s2, p1+1, p2, match_type=2, prs=prs, match_penalties=match_penalties)\n",
    "    history[(p1, p2+1)] = match_aB = process_node(s1, s2, p1, p2+1, match_type=3, prs=prs, match_penalties=match_penalties)\n",
    "\n",
    "    current_node = sorted([match_ab, match_Ab, match_aB], key=lambda x: x.score, reverse=True)[0]\n",
    "    print(current_node)\n",
    "    p1 = current_node.p1\n",
    "    p2 = current_node.p2\n",
    "    prs = current_node.score\n",
    "\n",
    "    while True:\n",
    "        history[(p1+1, p2+1)] = match_ab = process_node(s1, s2, p1+1, p2+1, match_type=1, prs=prs, match_penalties=match_penalties)\n",
    "        history[(p1+1, p2)] = match_Ab = process_node(s1, s2, p1+1, p2, match_type=2, prs=prs, match_penalties=match_penalties)\n",
    "        history[(p1, p2+1)] = match_aB = process_node(s1, s2, p1, p2+1, match_type=3, prs=prs, match_penalties=match_penalties)\n",
    "        new_best = sorted([match_ab, match_Ab, match_aB], key=lambda x: x.score, reverse=True)[0]\n",
    "        \n",
    "        current_node = new_best\n",
    "        print(current_node)\n",
    "        \n",
    "        p1 = current_node.p1\n",
    "        p2 = current_node.p2\n",
    "        prs = current_node.score\n",
    "\n",
    "        if p1 >= len(s1)-1 or p2 >= len(s2)-1:\n",
    "            break\n",
    "\n",
    "    print(history)\n",
    "\n",
    "solve_fogsaa(\"abcdefg\", \"abcdefg\")"
   ]
  },
  {
   "cell_type": "code",
   "execution_count": null,
   "metadata": {},
   "outputs": [],
   "source": []
  }
 ],
 "metadata": {
  "interpreter": {
   "hash": "3d597f4c481aa0f25dceb95d2a0067e73c0966dcbd003d741d821a7208527ecf"
  },
  "kernelspec": {
   "display_name": "Python 3.8.5 64-bit ('base': conda)",
   "language": "python",
   "name": "python3"
  },
  "language_info": {
   "codemirror_mode": {
    "name": "ipython",
    "version": 3
   },
   "file_extension": ".py",
   "mimetype": "text/x-python",
   "name": "python",
   "nbconvert_exporter": "python",
   "pygments_lexer": "ipython3",
   "version": "3.10.2"
  },
  "orig_nbformat": 4
 },
 "nbformat": 4,
 "nbformat_minor": 2
}
