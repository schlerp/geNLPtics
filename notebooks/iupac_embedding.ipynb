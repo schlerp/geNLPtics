{
 "cells": [
  {
   "cell_type": "code",
   "execution_count": 59,
   "id": "58616ffb",
   "metadata": {
    "ExecuteTime": {
     "end_time": "2021-12-19T23:26:01.133795Z",
     "start_time": "2021-12-19T23:26:01.128796Z"
    }
   },
   "outputs": [],
   "source": [
    "from typing import List\n",
    "import numpy as np\n",
    "import plotly.express as px\n",
    "import pandas as pd"
   ]
  },
  {
   "cell_type": "code",
   "execution_count": 103,
   "id": "1f5e1f68",
   "metadata": {
    "ExecuteTime": {
     "end_time": "2021-12-20T01:08:29.561861Z",
     "start_time": "2021-12-20T01:08:29.550863Z"
    }
   },
   "outputs": [
    {
     "data": {
      "text/plain": [
       "{'N': [0, 0, 0.5],\n",
       " '-': [0, 0, -1],\n",
       " 'A': [-1, 1, 0],\n",
       " 'C': [1, 1, 1],\n",
       " 'T': [1, -1, 0],\n",
       " 'U': [1, -1, 0],\n",
       " 'G': [-1, -1, 1],\n",
       " 'M': [0.0, 1.0, 0.5],\n",
       " 'W': [0.0, 0.0, 0.0],\n",
       " 'R': [-1.0, 0.0, 0.5],\n",
       " 'Y': [1.0, 0.0, 0.5],\n",
       " 'S': [0.0, 0.0, 1.0],\n",
       " 'K': [0.0, -1.0, 0.5],\n",
       " 'B': [0.3333333333333333, -0.3333333333333333, 0.6666666666666666],\n",
       " 'D': [-0.3333333333333333, -0.3333333333333333, 0.3333333333333333],\n",
       " 'H': [0.3333333333333333, 0.3333333333333333, 0.3333333333333333]}"
      ]
     },
     "execution_count": 103,
     "metadata": {},
     "output_type": "execute_result"
    }
   ],
   "source": [
    "N = [0,0,0.5]\n",
    "_ = [0,0,-1]\n",
    "\n",
    "A = [-1,1,0]\n",
    "C = [1,1,1]\n",
    "T = [1,-1,0]\n",
    "U = T\n",
    "G = [-1,-1,1]\n",
    "\n",
    "dict_base_embeddings = {\n",
    "    \"N\": N,\n",
    "    \"-\": _,\n",
    "    \n",
    "    \"A\": A,\n",
    "    \"C\": C,\n",
    "    \"T\": T,\n",
    "    \"U\": U,\n",
    "    \"G\": G,\n",
    "\n",
    "    \"M\": np.mean([A, C], axis=0).tolist(),\n",
    "    \"W\": np.mean([A, T], axis=0).tolist(),\n",
    "    \"R\": np.mean([A, G], axis=0).tolist(),\n",
    "    \"Y\": np.mean([C, T], axis=0).tolist(),\n",
    "    \"S\": np.mean([C, G], axis=0).tolist(),\n",
    "    \"K\": np.mean([T, G], axis=0).tolist(),\n",
    "\n",
    "    \"B\": np.mean([C, G, T], axis=0).tolist(),\n",
    "    \"D\": np.mean([A, G, T], axis=0).tolist(),\n",
    "    \"H\": np.mean([A, C, T], axis=0).tolist(),\n",
    "}\n",
    "\n",
    "df_base_embeddings = pd.DataFrame(dict_base_embeddings.values(), index=dict_base_embeddings.keys(), columns=[\"x\", \"y\", \"z\"])\n",
    "dict_base_embeddings"
   ]
  },
  {
   "cell_type": "code",
   "execution_count": 98,
   "id": "d87aa103",
   "metadata": {
    "ExecuteTime": {
     "end_time": "2021-12-20T01:07:33.799048Z",
     "start_time": "2021-12-20T01:07:33.730084Z"
    }
   },
   "outputs": [
    {
     "data": {
      "application/vnd.plotly.v1+json": {
       "config": {
        "plotlyServerURL": "https://plot.ly"
       },
       "data": [
        {
         "hovertemplate": "index=%{text}<br>x=%{x}<br>y=%{y}<br>z=%{z}<extra></extra>",
         "legendgroup": "N",
         "marker": {
          "color": "#636efa",
          "symbol": "circle"
         },
         "mode": "markers+text",
         "name": "N",
         "scene": "scene",
         "showlegend": true,
         "text": [
          "N"
         ],
         "type": "scatter3d",
         "x": [
          0
         ],
         "y": [
          0
         ],
         "z": [
          0.5
         ]
        },
        {
         "hovertemplate": "index=%{text}<br>x=%{x}<br>y=%{y}<br>z=%{z}<extra></extra>",
         "legendgroup": "-",
         "marker": {
          "color": "#EF553B",
          "symbol": "circle"
         },
         "mode": "markers+text",
         "name": "-",
         "scene": "scene",
         "showlegend": true,
         "text": [
          "-"
         ],
         "type": "scatter3d",
         "x": [
          0
         ],
         "y": [
          0
         ],
         "z": [
          -1
         ]
        },
        {
         "hovertemplate": "index=%{text}<br>x=%{x}<br>y=%{y}<br>z=%{z}<extra></extra>",
         "legendgroup": "A",
         "marker": {
          "color": "#00cc96",
          "symbol": "circle"
         },
         "mode": "markers+text",
         "name": "A",
         "scene": "scene",
         "showlegend": true,
         "text": [
          "A"
         ],
         "type": "scatter3d",
         "x": [
          -1
         ],
         "y": [
          1
         ],
         "z": [
          0
         ]
        },
        {
         "hovertemplate": "index=%{text}<br>x=%{x}<br>y=%{y}<br>z=%{z}<extra></extra>",
         "legendgroup": "C",
         "marker": {
          "color": "#ab63fa",
          "symbol": "circle"
         },
         "mode": "markers+text",
         "name": "C",
         "scene": "scene",
         "showlegend": true,
         "text": [
          "C"
         ],
         "type": "scatter3d",
         "x": [
          1
         ],
         "y": [
          1
         ],
         "z": [
          1
         ]
        },
        {
         "hovertemplate": "index=%{text}<br>x=%{x}<br>y=%{y}<br>z=%{z}<extra></extra>",
         "legendgroup": "T",
         "marker": {
          "color": "#FFA15A",
          "symbol": "circle"
         },
         "mode": "markers+text",
         "name": "T",
         "scene": "scene",
         "showlegend": true,
         "text": [
          "T"
         ],
         "type": "scatter3d",
         "x": [
          1
         ],
         "y": [
          -1
         ],
         "z": [
          0
         ]
        },
        {
         "hovertemplate": "index=%{text}<br>x=%{x}<br>y=%{y}<br>z=%{z}<extra></extra>",
         "legendgroup": "U",
         "marker": {
          "color": "#19d3f3",
          "symbol": "circle"
         },
         "mode": "markers+text",
         "name": "U",
         "scene": "scene",
         "showlegend": true,
         "text": [
          "U"
         ],
         "type": "scatter3d",
         "x": [
          1
         ],
         "y": [
          -1
         ],
         "z": [
          0
         ]
        },
        {
         "hovertemplate": "index=%{text}<br>x=%{x}<br>y=%{y}<br>z=%{z}<extra></extra>",
         "legendgroup": "G",
         "marker": {
          "color": "#FF6692",
          "symbol": "circle"
         },
         "mode": "markers+text",
         "name": "G",
         "scene": "scene",
         "showlegend": true,
         "text": [
          "G"
         ],
         "type": "scatter3d",
         "x": [
          -1
         ],
         "y": [
          -1
         ],
         "z": [
          1
         ]
        },
        {
         "hovertemplate": "index=%{text}<br>x=%{x}<br>y=%{y}<br>z=%{z}<extra></extra>",
         "legendgroup": "M",
         "marker": {
          "color": "#B6E880",
          "symbol": "circle"
         },
         "mode": "markers+text",
         "name": "M",
         "scene": "scene",
         "showlegend": true,
         "text": [
          "M"
         ],
         "type": "scatter3d",
         "x": [
          0
         ],
         "y": [
          1
         ],
         "z": [
          0.5
         ]
        },
        {
         "hovertemplate": "index=%{text}<br>x=%{x}<br>y=%{y}<br>z=%{z}<extra></extra>",
         "legendgroup": "W",
         "marker": {
          "color": "#FF97FF",
          "symbol": "circle"
         },
         "mode": "markers+text",
         "name": "W",
         "scene": "scene",
         "showlegend": true,
         "text": [
          "W"
         ],
         "type": "scatter3d",
         "x": [
          0
         ],
         "y": [
          0
         ],
         "z": [
          0
         ]
        },
        {
         "hovertemplate": "index=%{text}<br>x=%{x}<br>y=%{y}<br>z=%{z}<extra></extra>",
         "legendgroup": "R",
         "marker": {
          "color": "#FECB52",
          "symbol": "circle"
         },
         "mode": "markers+text",
         "name": "R",
         "scene": "scene",
         "showlegend": true,
         "text": [
          "R"
         ],
         "type": "scatter3d",
         "x": [
          -1
         ],
         "y": [
          0
         ],
         "z": [
          0.5
         ]
        },
        {
         "hovertemplate": "index=%{text}<br>x=%{x}<br>y=%{y}<br>z=%{z}<extra></extra>",
         "legendgroup": "Y",
         "marker": {
          "color": "#636efa",
          "symbol": "circle"
         },
         "mode": "markers+text",
         "name": "Y",
         "scene": "scene",
         "showlegend": true,
         "text": [
          "Y"
         ],
         "type": "scatter3d",
         "x": [
          1
         ],
         "y": [
          0
         ],
         "z": [
          0.5
         ]
        },
        {
         "hovertemplate": "index=%{text}<br>x=%{x}<br>y=%{y}<br>z=%{z}<extra></extra>",
         "legendgroup": "S",
         "marker": {
          "color": "#EF553B",
          "symbol": "circle"
         },
         "mode": "markers+text",
         "name": "S",
         "scene": "scene",
         "showlegend": true,
         "text": [
          "S"
         ],
         "type": "scatter3d",
         "x": [
          0
         ],
         "y": [
          0
         ],
         "z": [
          1
         ]
        },
        {
         "hovertemplate": "index=%{text}<br>x=%{x}<br>y=%{y}<br>z=%{z}<extra></extra>",
         "legendgroup": "K",
         "marker": {
          "color": "#00cc96",
          "symbol": "circle"
         },
         "mode": "markers+text",
         "name": "K",
         "scene": "scene",
         "showlegend": true,
         "text": [
          "K"
         ],
         "type": "scatter3d",
         "x": [
          0
         ],
         "y": [
          -1
         ],
         "z": [
          0.5
         ]
        },
        {
         "hovertemplate": "index=%{text}<br>x=%{x}<br>y=%{y}<br>z=%{z}<extra></extra>",
         "legendgroup": "B",
         "marker": {
          "color": "#ab63fa",
          "symbol": "circle"
         },
         "mode": "markers+text",
         "name": "B",
         "scene": "scene",
         "showlegend": true,
         "text": [
          "B"
         ],
         "type": "scatter3d",
         "x": [
          0.3333333333333333
         ],
         "y": [
          -0.3333333333333333
         ],
         "z": [
          0.6666666666666666
         ]
        },
        {
         "hovertemplate": "index=%{text}<br>x=%{x}<br>y=%{y}<br>z=%{z}<extra></extra>",
         "legendgroup": "D",
         "marker": {
          "color": "#FFA15A",
          "symbol": "circle"
         },
         "mode": "markers+text",
         "name": "D",
         "scene": "scene",
         "showlegend": true,
         "text": [
          "D"
         ],
         "type": "scatter3d",
         "x": [
          -0.3333333333333333
         ],
         "y": [
          -0.3333333333333333
         ],
         "z": [
          0.3333333333333333
         ]
        },
        {
         "hovertemplate": "index=%{text}<br>x=%{x}<br>y=%{y}<br>z=%{z}<extra></extra>",
         "legendgroup": "H",
         "marker": {
          "color": "#19d3f3",
          "symbol": "circle"
         },
         "mode": "markers+text",
         "name": "H",
         "scene": "scene",
         "showlegend": true,
         "text": [
          "H"
         ],
         "type": "scatter3d",
         "x": [
          0.3333333333333333
         ],
         "y": [
          0.3333333333333333
         ],
         "z": [
          0.3333333333333333
         ]
        }
       ],
       "layout": {
        "legend": {
         "title": {
          "text": "index"
         },
         "tracegroupgap": 0
        },
        "margin": {
         "t": 60
        },
        "scene": {
         "domain": {
          "x": [
           0,
           1
          ],
          "y": [
           0,
           1
          ]
         },
         "xaxis": {
          "title": {
           "text": "x"
          }
         },
         "yaxis": {
          "title": {
           "text": "y"
          }
         },
         "zaxis": {
          "title": {
           "text": "z"
          }
         }
        },
        "template": {
         "data": {
          "bar": [
           {
            "error_x": {
             "color": "#2a3f5f"
            },
            "error_y": {
             "color": "#2a3f5f"
            },
            "marker": {
             "line": {
              "color": "#E5ECF6",
              "width": 0.5
             }
            },
            "type": "bar"
           }
          ],
          "barpolar": [
           {
            "marker": {
             "line": {
              "color": "#E5ECF6",
              "width": 0.5
             }
            },
            "type": "barpolar"
           }
          ],
          "carpet": [
           {
            "aaxis": {
             "endlinecolor": "#2a3f5f",
             "gridcolor": "white",
             "linecolor": "white",
             "minorgridcolor": "white",
             "startlinecolor": "#2a3f5f"
            },
            "baxis": {
             "endlinecolor": "#2a3f5f",
             "gridcolor": "white",
             "linecolor": "white",
             "minorgridcolor": "white",
             "startlinecolor": "#2a3f5f"
            },
            "type": "carpet"
           }
          ],
          "choropleth": [
           {
            "colorbar": {
             "outlinewidth": 0,
             "ticks": ""
            },
            "type": "choropleth"
           }
          ],
          "contour": [
           {
            "colorbar": {
             "outlinewidth": 0,
             "ticks": ""
            },
            "colorscale": [
             [
              0,
              "#0d0887"
             ],
             [
              0.1111111111111111,
              "#46039f"
             ],
             [
              0.2222222222222222,
              "#7201a8"
             ],
             [
              0.3333333333333333,
              "#9c179e"
             ],
             [
              0.4444444444444444,
              "#bd3786"
             ],
             [
              0.5555555555555556,
              "#d8576b"
             ],
             [
              0.6666666666666666,
              "#ed7953"
             ],
             [
              0.7777777777777778,
              "#fb9f3a"
             ],
             [
              0.8888888888888888,
              "#fdca26"
             ],
             [
              1,
              "#f0f921"
             ]
            ],
            "type": "contour"
           }
          ],
          "contourcarpet": [
           {
            "colorbar": {
             "outlinewidth": 0,
             "ticks": ""
            },
            "type": "contourcarpet"
           }
          ],
          "heatmap": [
           {
            "colorbar": {
             "outlinewidth": 0,
             "ticks": ""
            },
            "colorscale": [
             [
              0,
              "#0d0887"
             ],
             [
              0.1111111111111111,
              "#46039f"
             ],
             [
              0.2222222222222222,
              "#7201a8"
             ],
             [
              0.3333333333333333,
              "#9c179e"
             ],
             [
              0.4444444444444444,
              "#bd3786"
             ],
             [
              0.5555555555555556,
              "#d8576b"
             ],
             [
              0.6666666666666666,
              "#ed7953"
             ],
             [
              0.7777777777777778,
              "#fb9f3a"
             ],
             [
              0.8888888888888888,
              "#fdca26"
             ],
             [
              1,
              "#f0f921"
             ]
            ],
            "type": "heatmap"
           }
          ],
          "heatmapgl": [
           {
            "colorbar": {
             "outlinewidth": 0,
             "ticks": ""
            },
            "colorscale": [
             [
              0,
              "#0d0887"
             ],
             [
              0.1111111111111111,
              "#46039f"
             ],
             [
              0.2222222222222222,
              "#7201a8"
             ],
             [
              0.3333333333333333,
              "#9c179e"
             ],
             [
              0.4444444444444444,
              "#bd3786"
             ],
             [
              0.5555555555555556,
              "#d8576b"
             ],
             [
              0.6666666666666666,
              "#ed7953"
             ],
             [
              0.7777777777777778,
              "#fb9f3a"
             ],
             [
              0.8888888888888888,
              "#fdca26"
             ],
             [
              1,
              "#f0f921"
             ]
            ],
            "type": "heatmapgl"
           }
          ],
          "histogram": [
           {
            "marker": {
             "colorbar": {
              "outlinewidth": 0,
              "ticks": ""
             }
            },
            "type": "histogram"
           }
          ],
          "histogram2d": [
           {
            "colorbar": {
             "outlinewidth": 0,
             "ticks": ""
            },
            "colorscale": [
             [
              0,
              "#0d0887"
             ],
             [
              0.1111111111111111,
              "#46039f"
             ],
             [
              0.2222222222222222,
              "#7201a8"
             ],
             [
              0.3333333333333333,
              "#9c179e"
             ],
             [
              0.4444444444444444,
              "#bd3786"
             ],
             [
              0.5555555555555556,
              "#d8576b"
             ],
             [
              0.6666666666666666,
              "#ed7953"
             ],
             [
              0.7777777777777778,
              "#fb9f3a"
             ],
             [
              0.8888888888888888,
              "#fdca26"
             ],
             [
              1,
              "#f0f921"
             ]
            ],
            "type": "histogram2d"
           }
          ],
          "histogram2dcontour": [
           {
            "colorbar": {
             "outlinewidth": 0,
             "ticks": ""
            },
            "colorscale": [
             [
              0,
              "#0d0887"
             ],
             [
              0.1111111111111111,
              "#46039f"
             ],
             [
              0.2222222222222222,
              "#7201a8"
             ],
             [
              0.3333333333333333,
              "#9c179e"
             ],
             [
              0.4444444444444444,
              "#bd3786"
             ],
             [
              0.5555555555555556,
              "#d8576b"
             ],
             [
              0.6666666666666666,
              "#ed7953"
             ],
             [
              0.7777777777777778,
              "#fb9f3a"
             ],
             [
              0.8888888888888888,
              "#fdca26"
             ],
             [
              1,
              "#f0f921"
             ]
            ],
            "type": "histogram2dcontour"
           }
          ],
          "mesh3d": [
           {
            "colorbar": {
             "outlinewidth": 0,
             "ticks": ""
            },
            "type": "mesh3d"
           }
          ],
          "parcoords": [
           {
            "line": {
             "colorbar": {
              "outlinewidth": 0,
              "ticks": ""
             }
            },
            "type": "parcoords"
           }
          ],
          "pie": [
           {
            "automargin": true,
            "type": "pie"
           }
          ],
          "scatter": [
           {
            "marker": {
             "colorbar": {
              "outlinewidth": 0,
              "ticks": ""
             }
            },
            "type": "scatter"
           }
          ],
          "scatter3d": [
           {
            "line": {
             "colorbar": {
              "outlinewidth": 0,
              "ticks": ""
             }
            },
            "marker": {
             "colorbar": {
              "outlinewidth": 0,
              "ticks": ""
             }
            },
            "type": "scatter3d"
           }
          ],
          "scattercarpet": [
           {
            "marker": {
             "colorbar": {
              "outlinewidth": 0,
              "ticks": ""
             }
            },
            "type": "scattercarpet"
           }
          ],
          "scattergeo": [
           {
            "marker": {
             "colorbar": {
              "outlinewidth": 0,
              "ticks": ""
             }
            },
            "type": "scattergeo"
           }
          ],
          "scattergl": [
           {
            "marker": {
             "colorbar": {
              "outlinewidth": 0,
              "ticks": ""
             }
            },
            "type": "scattergl"
           }
          ],
          "scattermapbox": [
           {
            "marker": {
             "colorbar": {
              "outlinewidth": 0,
              "ticks": ""
             }
            },
            "type": "scattermapbox"
           }
          ],
          "scatterpolar": [
           {
            "marker": {
             "colorbar": {
              "outlinewidth": 0,
              "ticks": ""
             }
            },
            "type": "scatterpolar"
           }
          ],
          "scatterpolargl": [
           {
            "marker": {
             "colorbar": {
              "outlinewidth": 0,
              "ticks": ""
             }
            },
            "type": "scatterpolargl"
           }
          ],
          "scatterternary": [
           {
            "marker": {
             "colorbar": {
              "outlinewidth": 0,
              "ticks": ""
             }
            },
            "type": "scatterternary"
           }
          ],
          "surface": [
           {
            "colorbar": {
             "outlinewidth": 0,
             "ticks": ""
            },
            "colorscale": [
             [
              0,
              "#0d0887"
             ],
             [
              0.1111111111111111,
              "#46039f"
             ],
             [
              0.2222222222222222,
              "#7201a8"
             ],
             [
              0.3333333333333333,
              "#9c179e"
             ],
             [
              0.4444444444444444,
              "#bd3786"
             ],
             [
              0.5555555555555556,
              "#d8576b"
             ],
             [
              0.6666666666666666,
              "#ed7953"
             ],
             [
              0.7777777777777778,
              "#fb9f3a"
             ],
             [
              0.8888888888888888,
              "#fdca26"
             ],
             [
              1,
              "#f0f921"
             ]
            ],
            "type": "surface"
           }
          ],
          "table": [
           {
            "cells": {
             "fill": {
              "color": "#EBF0F8"
             },
             "line": {
              "color": "white"
             }
            },
            "header": {
             "fill": {
              "color": "#C8D4E3"
             },
             "line": {
              "color": "white"
             }
            },
            "type": "table"
           }
          ]
         },
         "layout": {
          "annotationdefaults": {
           "arrowcolor": "#2a3f5f",
           "arrowhead": 0,
           "arrowwidth": 1
          },
          "coloraxis": {
           "colorbar": {
            "outlinewidth": 0,
            "ticks": ""
           }
          },
          "colorscale": {
           "diverging": [
            [
             0,
             "#8e0152"
            ],
            [
             0.1,
             "#c51b7d"
            ],
            [
             0.2,
             "#de77ae"
            ],
            [
             0.3,
             "#f1b6da"
            ],
            [
             0.4,
             "#fde0ef"
            ],
            [
             0.5,
             "#f7f7f7"
            ],
            [
             0.6,
             "#e6f5d0"
            ],
            [
             0.7,
             "#b8e186"
            ],
            [
             0.8,
             "#7fbc41"
            ],
            [
             0.9,
             "#4d9221"
            ],
            [
             1,
             "#276419"
            ]
           ],
           "sequential": [
            [
             0,
             "#0d0887"
            ],
            [
             0.1111111111111111,
             "#46039f"
            ],
            [
             0.2222222222222222,
             "#7201a8"
            ],
            [
             0.3333333333333333,
             "#9c179e"
            ],
            [
             0.4444444444444444,
             "#bd3786"
            ],
            [
             0.5555555555555556,
             "#d8576b"
            ],
            [
             0.6666666666666666,
             "#ed7953"
            ],
            [
             0.7777777777777778,
             "#fb9f3a"
            ],
            [
             0.8888888888888888,
             "#fdca26"
            ],
            [
             1,
             "#f0f921"
            ]
           ],
           "sequentialminus": [
            [
             0,
             "#0d0887"
            ],
            [
             0.1111111111111111,
             "#46039f"
            ],
            [
             0.2222222222222222,
             "#7201a8"
            ],
            [
             0.3333333333333333,
             "#9c179e"
            ],
            [
             0.4444444444444444,
             "#bd3786"
            ],
            [
             0.5555555555555556,
             "#d8576b"
            ],
            [
             0.6666666666666666,
             "#ed7953"
            ],
            [
             0.7777777777777778,
             "#fb9f3a"
            ],
            [
             0.8888888888888888,
             "#fdca26"
            ],
            [
             1,
             "#f0f921"
            ]
           ]
          },
          "colorway": [
           "#636efa",
           "#EF553B",
           "#00cc96",
           "#ab63fa",
           "#FFA15A",
           "#19d3f3",
           "#FF6692",
           "#B6E880",
           "#FF97FF",
           "#FECB52"
          ],
          "font": {
           "color": "#2a3f5f"
          },
          "geo": {
           "bgcolor": "white",
           "lakecolor": "white",
           "landcolor": "#E5ECF6",
           "showlakes": true,
           "showland": true,
           "subunitcolor": "white"
          },
          "hoverlabel": {
           "align": "left"
          },
          "hovermode": "closest",
          "mapbox": {
           "style": "light"
          },
          "paper_bgcolor": "white",
          "plot_bgcolor": "#E5ECF6",
          "polar": {
           "angularaxis": {
            "gridcolor": "white",
            "linecolor": "white",
            "ticks": ""
           },
           "bgcolor": "#E5ECF6",
           "radialaxis": {
            "gridcolor": "white",
            "linecolor": "white",
            "ticks": ""
           }
          },
          "scene": {
           "xaxis": {
            "backgroundcolor": "#E5ECF6",
            "gridcolor": "white",
            "gridwidth": 2,
            "linecolor": "white",
            "showbackground": true,
            "ticks": "",
            "zerolinecolor": "white"
           },
           "yaxis": {
            "backgroundcolor": "#E5ECF6",
            "gridcolor": "white",
            "gridwidth": 2,
            "linecolor": "white",
            "showbackground": true,
            "ticks": "",
            "zerolinecolor": "white"
           },
           "zaxis": {
            "backgroundcolor": "#E5ECF6",
            "gridcolor": "white",
            "gridwidth": 2,
            "linecolor": "white",
            "showbackground": true,
            "ticks": "",
            "zerolinecolor": "white"
           }
          },
          "shapedefaults": {
           "line": {
            "color": "#2a3f5f"
           }
          },
          "ternary": {
           "aaxis": {
            "gridcolor": "white",
            "linecolor": "white",
            "ticks": ""
           },
           "baxis": {
            "gridcolor": "white",
            "linecolor": "white",
            "ticks": ""
           },
           "bgcolor": "#E5ECF6",
           "caxis": {
            "gridcolor": "white",
            "linecolor": "white",
            "ticks": ""
           }
          },
          "title": {
           "x": 0.05
          },
          "xaxis": {
           "automargin": true,
           "gridcolor": "white",
           "linecolor": "white",
           "ticks": "",
           "title": {
            "standoff": 15
           },
           "zerolinecolor": "white",
           "zerolinewidth": 2
          },
          "yaxis": {
           "automargin": true,
           "gridcolor": "white",
           "linecolor": "white",
           "ticks": "",
           "title": {
            "standoff": 15
           },
           "zerolinecolor": "white",
           "zerolinewidth": 2
          }
         }
        }
       }
      },
      "text/html": [
       "<div>                            <div id=\"0a353c76-ea59-4f5e-923f-ff5e9078849c\" class=\"plotly-graph-div\" style=\"height:525px; width:100%;\"></div>            <script type=\"text/javascript\">                require([\"plotly\"], function(Plotly) {                    window.PLOTLYENV=window.PLOTLYENV || {};                                    if (document.getElementById(\"0a353c76-ea59-4f5e-923f-ff5e9078849c\")) {                    Plotly.newPlot(                        \"0a353c76-ea59-4f5e-923f-ff5e9078849c\",                        [{\"hovertemplate\": \"index=%{text}<br>x=%{x}<br>y=%{y}<br>z=%{z}<extra></extra>\", \"legendgroup\": \"N\", \"marker\": {\"color\": \"#636efa\", \"symbol\": \"circle\"}, \"mode\": \"markers+text\", \"name\": \"N\", \"scene\": \"scene\", \"showlegend\": true, \"text\": [\"N\"], \"type\": \"scatter3d\", \"x\": [0.0], \"y\": [0.0], \"z\": [0.5]}, {\"hovertemplate\": \"index=%{text}<br>x=%{x}<br>y=%{y}<br>z=%{z}<extra></extra>\", \"legendgroup\": \"-\", \"marker\": {\"color\": \"#EF553B\", \"symbol\": \"circle\"}, \"mode\": \"markers+text\", \"name\": \"-\", \"scene\": \"scene\", \"showlegend\": true, \"text\": [\"-\"], \"type\": \"scatter3d\", \"x\": [0.0], \"y\": [0.0], \"z\": [-1.0]}, {\"hovertemplate\": \"index=%{text}<br>x=%{x}<br>y=%{y}<br>z=%{z}<extra></extra>\", \"legendgroup\": \"A\", \"marker\": {\"color\": \"#00cc96\", \"symbol\": \"circle\"}, \"mode\": \"markers+text\", \"name\": \"A\", \"scene\": \"scene\", \"showlegend\": true, \"text\": [\"A\"], \"type\": \"scatter3d\", \"x\": [-1.0], \"y\": [1.0], \"z\": [0.0]}, {\"hovertemplate\": \"index=%{text}<br>x=%{x}<br>y=%{y}<br>z=%{z}<extra></extra>\", \"legendgroup\": \"C\", \"marker\": {\"color\": \"#ab63fa\", \"symbol\": \"circle\"}, \"mode\": \"markers+text\", \"name\": \"C\", \"scene\": \"scene\", \"showlegend\": true, \"text\": [\"C\"], \"type\": \"scatter3d\", \"x\": [1.0], \"y\": [1.0], \"z\": [1.0]}, {\"hovertemplate\": \"index=%{text}<br>x=%{x}<br>y=%{y}<br>z=%{z}<extra></extra>\", \"legendgroup\": \"T\", \"marker\": {\"color\": \"#FFA15A\", \"symbol\": \"circle\"}, \"mode\": \"markers+text\", \"name\": \"T\", \"scene\": \"scene\", \"showlegend\": true, \"text\": [\"T\"], \"type\": \"scatter3d\", \"x\": [1.0], \"y\": [-1.0], \"z\": [0.0]}, {\"hovertemplate\": \"index=%{text}<br>x=%{x}<br>y=%{y}<br>z=%{z}<extra></extra>\", \"legendgroup\": \"U\", \"marker\": {\"color\": \"#19d3f3\", \"symbol\": \"circle\"}, \"mode\": \"markers+text\", \"name\": \"U\", \"scene\": \"scene\", \"showlegend\": true, \"text\": [\"U\"], \"type\": \"scatter3d\", \"x\": [1.0], \"y\": [-1.0], \"z\": [0.0]}, {\"hovertemplate\": \"index=%{text}<br>x=%{x}<br>y=%{y}<br>z=%{z}<extra></extra>\", \"legendgroup\": \"G\", \"marker\": {\"color\": \"#FF6692\", \"symbol\": \"circle\"}, \"mode\": \"markers+text\", \"name\": \"G\", \"scene\": \"scene\", \"showlegend\": true, \"text\": [\"G\"], \"type\": \"scatter3d\", \"x\": [-1.0], \"y\": [-1.0], \"z\": [1.0]}, {\"hovertemplate\": \"index=%{text}<br>x=%{x}<br>y=%{y}<br>z=%{z}<extra></extra>\", \"legendgroup\": \"M\", \"marker\": {\"color\": \"#B6E880\", \"symbol\": \"circle\"}, \"mode\": \"markers+text\", \"name\": \"M\", \"scene\": \"scene\", \"showlegend\": true, \"text\": [\"M\"], \"type\": \"scatter3d\", \"x\": [0.0], \"y\": [1.0], \"z\": [0.5]}, {\"hovertemplate\": \"index=%{text}<br>x=%{x}<br>y=%{y}<br>z=%{z}<extra></extra>\", \"legendgroup\": \"W\", \"marker\": {\"color\": \"#FF97FF\", \"symbol\": \"circle\"}, \"mode\": \"markers+text\", \"name\": \"W\", \"scene\": \"scene\", \"showlegend\": true, \"text\": [\"W\"], \"type\": \"scatter3d\", \"x\": [0.0], \"y\": [0.0], \"z\": [0.0]}, {\"hovertemplate\": \"index=%{text}<br>x=%{x}<br>y=%{y}<br>z=%{z}<extra></extra>\", \"legendgroup\": \"R\", \"marker\": {\"color\": \"#FECB52\", \"symbol\": \"circle\"}, \"mode\": \"markers+text\", \"name\": \"R\", \"scene\": \"scene\", \"showlegend\": true, \"text\": [\"R\"], \"type\": \"scatter3d\", \"x\": [-1.0], \"y\": [0.0], \"z\": [0.5]}, {\"hovertemplate\": \"index=%{text}<br>x=%{x}<br>y=%{y}<br>z=%{z}<extra></extra>\", \"legendgroup\": \"Y\", \"marker\": {\"color\": \"#636efa\", \"symbol\": \"circle\"}, \"mode\": \"markers+text\", \"name\": \"Y\", \"scene\": \"scene\", \"showlegend\": true, \"text\": [\"Y\"], \"type\": \"scatter3d\", \"x\": [1.0], \"y\": [0.0], \"z\": [0.5]}, {\"hovertemplate\": \"index=%{text}<br>x=%{x}<br>y=%{y}<br>z=%{z}<extra></extra>\", \"legendgroup\": \"S\", \"marker\": {\"color\": \"#EF553B\", \"symbol\": \"circle\"}, \"mode\": \"markers+text\", \"name\": \"S\", \"scene\": \"scene\", \"showlegend\": true, \"text\": [\"S\"], \"type\": \"scatter3d\", \"x\": [0.0], \"y\": [0.0], \"z\": [1.0]}, {\"hovertemplate\": \"index=%{text}<br>x=%{x}<br>y=%{y}<br>z=%{z}<extra></extra>\", \"legendgroup\": \"K\", \"marker\": {\"color\": \"#00cc96\", \"symbol\": \"circle\"}, \"mode\": \"markers+text\", \"name\": \"K\", \"scene\": \"scene\", \"showlegend\": true, \"text\": [\"K\"], \"type\": \"scatter3d\", \"x\": [0.0], \"y\": [-1.0], \"z\": [0.5]}, {\"hovertemplate\": \"index=%{text}<br>x=%{x}<br>y=%{y}<br>z=%{z}<extra></extra>\", \"legendgroup\": \"B\", \"marker\": {\"color\": \"#ab63fa\", \"symbol\": \"circle\"}, \"mode\": \"markers+text\", \"name\": \"B\", \"scene\": \"scene\", \"showlegend\": true, \"text\": [\"B\"], \"type\": \"scatter3d\", \"x\": [0.3333333333333333], \"y\": [-0.3333333333333333], \"z\": [0.6666666666666666]}, {\"hovertemplate\": \"index=%{text}<br>x=%{x}<br>y=%{y}<br>z=%{z}<extra></extra>\", \"legendgroup\": \"D\", \"marker\": {\"color\": \"#FFA15A\", \"symbol\": \"circle\"}, \"mode\": \"markers+text\", \"name\": \"D\", \"scene\": \"scene\", \"showlegend\": true, \"text\": [\"D\"], \"type\": \"scatter3d\", \"x\": [-0.3333333333333333], \"y\": [-0.3333333333333333], \"z\": [0.3333333333333333]}, {\"hovertemplate\": \"index=%{text}<br>x=%{x}<br>y=%{y}<br>z=%{z}<extra></extra>\", \"legendgroup\": \"H\", \"marker\": {\"color\": \"#19d3f3\", \"symbol\": \"circle\"}, \"mode\": \"markers+text\", \"name\": \"H\", \"scene\": \"scene\", \"showlegend\": true, \"text\": [\"H\"], \"type\": \"scatter3d\", \"x\": [0.3333333333333333], \"y\": [0.3333333333333333], \"z\": [0.3333333333333333]}],                        {\"legend\": {\"title\": {\"text\": \"index\"}, \"tracegroupgap\": 0}, \"margin\": {\"t\": 60}, \"scene\": {\"domain\": {\"x\": [0.0, 1.0], \"y\": [0.0, 1.0]}, \"xaxis\": {\"title\": {\"text\": \"x\"}}, \"yaxis\": {\"title\": {\"text\": \"y\"}}, \"zaxis\": {\"title\": {\"text\": \"z\"}}}, \"template\": {\"data\": {\"bar\": [{\"error_x\": {\"color\": \"#2a3f5f\"}, \"error_y\": {\"color\": \"#2a3f5f\"}, \"marker\": {\"line\": {\"color\": \"#E5ECF6\", \"width\": 0.5}}, \"type\": \"bar\"}], \"barpolar\": [{\"marker\": {\"line\": {\"color\": \"#E5ECF6\", \"width\": 0.5}}, \"type\": \"barpolar\"}], \"carpet\": [{\"aaxis\": {\"endlinecolor\": \"#2a3f5f\", \"gridcolor\": \"white\", \"linecolor\": \"white\", \"minorgridcolor\": \"white\", \"startlinecolor\": \"#2a3f5f\"}, \"baxis\": {\"endlinecolor\": \"#2a3f5f\", \"gridcolor\": \"white\", \"linecolor\": \"white\", \"minorgridcolor\": \"white\", \"startlinecolor\": \"#2a3f5f\"}, \"type\": \"carpet\"}], \"choropleth\": [{\"colorbar\": {\"outlinewidth\": 0, \"ticks\": \"\"}, \"type\": \"choropleth\"}], \"contour\": [{\"colorbar\": {\"outlinewidth\": 0, \"ticks\": \"\"}, \"colorscale\": [[0.0, \"#0d0887\"], [0.1111111111111111, \"#46039f\"], [0.2222222222222222, \"#7201a8\"], [0.3333333333333333, \"#9c179e\"], [0.4444444444444444, \"#bd3786\"], [0.5555555555555556, \"#d8576b\"], [0.6666666666666666, \"#ed7953\"], [0.7777777777777778, \"#fb9f3a\"], [0.8888888888888888, \"#fdca26\"], [1.0, \"#f0f921\"]], \"type\": \"contour\"}], \"contourcarpet\": [{\"colorbar\": {\"outlinewidth\": 0, \"ticks\": \"\"}, \"type\": \"contourcarpet\"}], \"heatmap\": [{\"colorbar\": {\"outlinewidth\": 0, \"ticks\": \"\"}, \"colorscale\": [[0.0, \"#0d0887\"], [0.1111111111111111, \"#46039f\"], [0.2222222222222222, \"#7201a8\"], [0.3333333333333333, \"#9c179e\"], [0.4444444444444444, \"#bd3786\"], [0.5555555555555556, \"#d8576b\"], [0.6666666666666666, \"#ed7953\"], [0.7777777777777778, \"#fb9f3a\"], [0.8888888888888888, \"#fdca26\"], [1.0, \"#f0f921\"]], \"type\": \"heatmap\"}], \"heatmapgl\": [{\"colorbar\": {\"outlinewidth\": 0, \"ticks\": \"\"}, \"colorscale\": [[0.0, \"#0d0887\"], [0.1111111111111111, \"#46039f\"], [0.2222222222222222, \"#7201a8\"], [0.3333333333333333, \"#9c179e\"], [0.4444444444444444, \"#bd3786\"], [0.5555555555555556, \"#d8576b\"], [0.6666666666666666, \"#ed7953\"], [0.7777777777777778, \"#fb9f3a\"], [0.8888888888888888, \"#fdca26\"], [1.0, \"#f0f921\"]], \"type\": \"heatmapgl\"}], \"histogram\": [{\"marker\": {\"colorbar\": {\"outlinewidth\": 0, \"ticks\": \"\"}}, \"type\": \"histogram\"}], \"histogram2d\": [{\"colorbar\": {\"outlinewidth\": 0, \"ticks\": \"\"}, \"colorscale\": [[0.0, \"#0d0887\"], [0.1111111111111111, \"#46039f\"], [0.2222222222222222, \"#7201a8\"], [0.3333333333333333, \"#9c179e\"], [0.4444444444444444, \"#bd3786\"], [0.5555555555555556, \"#d8576b\"], [0.6666666666666666, \"#ed7953\"], [0.7777777777777778, \"#fb9f3a\"], [0.8888888888888888, \"#fdca26\"], [1.0, \"#f0f921\"]], \"type\": \"histogram2d\"}], \"histogram2dcontour\": [{\"colorbar\": {\"outlinewidth\": 0, \"ticks\": \"\"}, \"colorscale\": [[0.0, \"#0d0887\"], [0.1111111111111111, \"#46039f\"], [0.2222222222222222, \"#7201a8\"], [0.3333333333333333, \"#9c179e\"], [0.4444444444444444, \"#bd3786\"], [0.5555555555555556, \"#d8576b\"], [0.6666666666666666, \"#ed7953\"], [0.7777777777777778, \"#fb9f3a\"], [0.8888888888888888, \"#fdca26\"], [1.0, \"#f0f921\"]], \"type\": \"histogram2dcontour\"}], \"mesh3d\": [{\"colorbar\": {\"outlinewidth\": 0, \"ticks\": \"\"}, \"type\": \"mesh3d\"}], \"parcoords\": [{\"line\": {\"colorbar\": {\"outlinewidth\": 0, \"ticks\": \"\"}}, \"type\": \"parcoords\"}], \"pie\": [{\"automargin\": true, \"type\": \"pie\"}], \"scatter\": [{\"marker\": {\"colorbar\": {\"outlinewidth\": 0, \"ticks\": \"\"}}, \"type\": \"scatter\"}], \"scatter3d\": [{\"line\": {\"colorbar\": {\"outlinewidth\": 0, \"ticks\": \"\"}}, \"marker\": {\"colorbar\": {\"outlinewidth\": 0, \"ticks\": \"\"}}, \"type\": \"scatter3d\"}], \"scattercarpet\": [{\"marker\": {\"colorbar\": {\"outlinewidth\": 0, \"ticks\": \"\"}}, \"type\": \"scattercarpet\"}], \"scattergeo\": [{\"marker\": {\"colorbar\": {\"outlinewidth\": 0, \"ticks\": \"\"}}, \"type\": \"scattergeo\"}], \"scattergl\": [{\"marker\": {\"colorbar\": {\"outlinewidth\": 0, \"ticks\": \"\"}}, \"type\": \"scattergl\"}], \"scattermapbox\": [{\"marker\": {\"colorbar\": {\"outlinewidth\": 0, \"ticks\": \"\"}}, \"type\": \"scattermapbox\"}], \"scatterpolar\": [{\"marker\": {\"colorbar\": {\"outlinewidth\": 0, \"ticks\": \"\"}}, \"type\": \"scatterpolar\"}], \"scatterpolargl\": [{\"marker\": {\"colorbar\": {\"outlinewidth\": 0, \"ticks\": \"\"}}, \"type\": \"scatterpolargl\"}], \"scatterternary\": [{\"marker\": {\"colorbar\": {\"outlinewidth\": 0, \"ticks\": \"\"}}, \"type\": \"scatterternary\"}], \"surface\": [{\"colorbar\": {\"outlinewidth\": 0, \"ticks\": \"\"}, \"colorscale\": [[0.0, \"#0d0887\"], [0.1111111111111111, \"#46039f\"], [0.2222222222222222, \"#7201a8\"], [0.3333333333333333, \"#9c179e\"], [0.4444444444444444, \"#bd3786\"], [0.5555555555555556, \"#d8576b\"], [0.6666666666666666, \"#ed7953\"], [0.7777777777777778, \"#fb9f3a\"], [0.8888888888888888, \"#fdca26\"], [1.0, \"#f0f921\"]], \"type\": \"surface\"}], \"table\": [{\"cells\": {\"fill\": {\"color\": \"#EBF0F8\"}, \"line\": {\"color\": \"white\"}}, \"header\": {\"fill\": {\"color\": \"#C8D4E3\"}, \"line\": {\"color\": \"white\"}}, \"type\": \"table\"}]}, \"layout\": {\"annotationdefaults\": {\"arrowcolor\": \"#2a3f5f\", \"arrowhead\": 0, \"arrowwidth\": 1}, \"coloraxis\": {\"colorbar\": {\"outlinewidth\": 0, \"ticks\": \"\"}}, \"colorscale\": {\"diverging\": [[0, \"#8e0152\"], [0.1, \"#c51b7d\"], [0.2, \"#de77ae\"], [0.3, \"#f1b6da\"], [0.4, \"#fde0ef\"], [0.5, \"#f7f7f7\"], [0.6, \"#e6f5d0\"], [0.7, \"#b8e186\"], [0.8, \"#7fbc41\"], [0.9, \"#4d9221\"], [1, \"#276419\"]], \"sequential\": [[0.0, \"#0d0887\"], [0.1111111111111111, \"#46039f\"], [0.2222222222222222, \"#7201a8\"], [0.3333333333333333, \"#9c179e\"], [0.4444444444444444, \"#bd3786\"], [0.5555555555555556, \"#d8576b\"], [0.6666666666666666, \"#ed7953\"], [0.7777777777777778, \"#fb9f3a\"], [0.8888888888888888, \"#fdca26\"], [1.0, \"#f0f921\"]], \"sequentialminus\": [[0.0, \"#0d0887\"], [0.1111111111111111, \"#46039f\"], [0.2222222222222222, \"#7201a8\"], [0.3333333333333333, \"#9c179e\"], [0.4444444444444444, \"#bd3786\"], [0.5555555555555556, \"#d8576b\"], [0.6666666666666666, \"#ed7953\"], [0.7777777777777778, \"#fb9f3a\"], [0.8888888888888888, \"#fdca26\"], [1.0, \"#f0f921\"]]}, \"colorway\": [\"#636efa\", \"#EF553B\", \"#00cc96\", \"#ab63fa\", \"#FFA15A\", \"#19d3f3\", \"#FF6692\", \"#B6E880\", \"#FF97FF\", \"#FECB52\"], \"font\": {\"color\": \"#2a3f5f\"}, \"geo\": {\"bgcolor\": \"white\", \"lakecolor\": \"white\", \"landcolor\": \"#E5ECF6\", \"showlakes\": true, \"showland\": true, \"subunitcolor\": \"white\"}, \"hoverlabel\": {\"align\": \"left\"}, \"hovermode\": \"closest\", \"mapbox\": {\"style\": \"light\"}, \"paper_bgcolor\": \"white\", \"plot_bgcolor\": \"#E5ECF6\", \"polar\": {\"angularaxis\": {\"gridcolor\": \"white\", \"linecolor\": \"white\", \"ticks\": \"\"}, \"bgcolor\": \"#E5ECF6\", \"radialaxis\": {\"gridcolor\": \"white\", \"linecolor\": \"white\", \"ticks\": \"\"}}, \"scene\": {\"xaxis\": {\"backgroundcolor\": \"#E5ECF6\", \"gridcolor\": \"white\", \"gridwidth\": 2, \"linecolor\": \"white\", \"showbackground\": true, \"ticks\": \"\", \"zerolinecolor\": \"white\"}, \"yaxis\": {\"backgroundcolor\": \"#E5ECF6\", \"gridcolor\": \"white\", \"gridwidth\": 2, \"linecolor\": \"white\", \"showbackground\": true, \"ticks\": \"\", \"zerolinecolor\": \"white\"}, \"zaxis\": {\"backgroundcolor\": \"#E5ECF6\", \"gridcolor\": \"white\", \"gridwidth\": 2, \"linecolor\": \"white\", \"showbackground\": true, \"ticks\": \"\", \"zerolinecolor\": \"white\"}}, \"shapedefaults\": {\"line\": {\"color\": \"#2a3f5f\"}}, \"ternary\": {\"aaxis\": {\"gridcolor\": \"white\", \"linecolor\": \"white\", \"ticks\": \"\"}, \"baxis\": {\"gridcolor\": \"white\", \"linecolor\": \"white\", \"ticks\": \"\"}, \"bgcolor\": \"#E5ECF6\", \"caxis\": {\"gridcolor\": \"white\", \"linecolor\": \"white\", \"ticks\": \"\"}}, \"title\": {\"x\": 0.05}, \"xaxis\": {\"automargin\": true, \"gridcolor\": \"white\", \"linecolor\": \"white\", \"ticks\": \"\", \"title\": {\"standoff\": 15}, \"zerolinecolor\": \"white\", \"zerolinewidth\": 2}, \"yaxis\": {\"automargin\": true, \"gridcolor\": \"white\", \"linecolor\": \"white\", \"ticks\": \"\", \"title\": {\"standoff\": 15}, \"zerolinecolor\": \"white\", \"zerolinewidth\": 2}}}},                        {\"responsive\": true}                    ).then(function(){\n",
       "                            \n",
       "var gd = document.getElementById('0a353c76-ea59-4f5e-923f-ff5e9078849c');\n",
       "var x = new MutationObserver(function (mutations, observer) {{\n",
       "        var display = window.getComputedStyle(gd).display;\n",
       "        if (!display || display === 'none') {{\n",
       "            console.log([gd, 'removed!']);\n",
       "            Plotly.purge(gd);\n",
       "            observer.disconnect();\n",
       "        }}\n",
       "}});\n",
       "\n",
       "// Listen for the removal of the full notebook cells\n",
       "var notebookContainer = gd.closest('#notebook-container');\n",
       "if (notebookContainer) {{\n",
       "    x.observe(notebookContainer, {childList: true});\n",
       "}}\n",
       "\n",
       "// Listen for the clearing of the current output cell\n",
       "var outputEl = gd.closest('.output');\n",
       "if (outputEl) {{\n",
       "    x.observe(outputEl, {childList: true});\n",
       "}}\n",
       "\n",
       "                        })                };                });            </script>        </div>"
      ]
     },
     "metadata": {},
     "output_type": "display_data"
    }
   ],
   "source": [
    "px.scatter_3d(df_base_embeddings, x=\"x\", y=\"y\", z=\"z\", text=df_base_embeddings.index, color=df_base_embeddings.index)"
   ]
  },
  {
   "cell_type": "code",
   "execution_count": 99,
   "id": "f90b1b77",
   "metadata": {
    "ExecuteTime": {
     "end_time": "2021-12-20T01:07:57.845206Z",
     "start_time": "2021-12-20T01:07:57.831177Z"
    }
   },
   "outputs": [
    {
     "name": "stdout",
     "output_type": "stream",
     "text": [
      "67\n"
     ]
    }
   ],
   "source": [
    "def parse_fasta_dataset(file_path: str = \"../data/LTP_09_2021_compressed_staph_muscle.fasta\", max_seqs:int = False):\n",
    "    dataset = []\n",
    "    current_idx = 0\n",
    "    current_meta = {}\n",
    "    with open(file_path, \"r\") as f:\n",
    "        for line in f.readlines():\n",
    "            if line[0] == \">\":\n",
    "                if current_meta != {}:\n",
    "                    current_meta[\"sequence\"] = current_meta[\"sequence\"].strip()\n",
    "                    dataset.append(current_meta)\n",
    "                line_list = line.replace(\"\\n\", \"\").replace(\">\", \"\").split(\"\\t\")\n",
    "                if len(line_list) < 2:\n",
    "                    current_meta  = {key: line_list[idx] for idx, key in enumerate([\"name\"])}\n",
    "                elif len(line_list) < 3:\n",
    "                    current_meta  = {key: line_list[idx] for idx, key in enumerate([\"id\", \"name\"])}\n",
    "                else:\n",
    "                    current_meta  = {key: line_list[idx] for idx, key in enumerate([\"id\", \"name\", \"tags\"])}\n",
    "                    current_meta[\"tags\"] = current_meta[\"tags\"].split(\";\")\n",
    "                current_meta[\"sequence\"] = \"\"\n",
    "                current_idx += 1\n",
    "                if current_idx > max_seqs and max_seqs>=1:\n",
    "                    break\n",
    "            else:\n",
    "                current_meta[\"sequence\"] += line.replace(\"\\n\", \" \")\n",
    "    return dataset\n",
    "\n",
    "dataset = parse_fasta_dataset(max_seqs=-1)\n",
    "print(len(dataset))"
   ]
  },
  {
   "cell_type": "code",
   "execution_count": 104,
   "id": "fcae6f82",
   "metadata": {
    "ExecuteTime": {
     "end_time": "2021-12-20T01:08:52.907500Z",
     "start_time": "2021-12-20T01:08:52.888536Z"
    }
   },
   "outputs": [],
   "source": [
    "def encode_sequences(sequence: str) -> List[List[float]]:\n",
    "    dict_base_embeddings = {\n",
    "        'N': [0, 0, 0.5],\n",
    "        '-': [0, 0, -1],\n",
    "        'A': [-1, 1, 0],\n",
    "        'C': [1, 1, 1],\n",
    "        'T': [1, -1, 0],\n",
    "        'U': [1, -1, 0],\n",
    "        'G': [-1, -1, 1],\n",
    "        'M': [0.0, 1.0, 0.5],\n",
    "        'W': [0.0, 0.0, 0.0],\n",
    "        'R': [-1.0, 0.0, 0.5],\n",
    "        'Y': [1.0, 0.0, 0.5],\n",
    "        'S': [0.0, 0.0, 1.0],\n",
    "        'K': [0.0, -1.0, 0.5],\n",
    "        'B': [0.3333333333333333, -0.3333333333333333, 0.6666666666666666],\n",
    "        'D': [-0.3333333333333333, -0.3333333333333333, 0.3333333333333333],\n",
    "        'H': [0.3333333333333333, 0.3333333333333333, 0.3333333333333333]\n",
    "    }\n",
    "    return [dict_base_embeddings.get(z, [1, 1, 1]) for z in sequence.strip().replace(\" \", \"\")]"
   ]
  },
  {
   "cell_type": "code",
   "execution_count": 106,
   "id": "daecbd92",
   "metadata": {
    "ExecuteTime": {
     "end_time": "2021-12-20T01:38:31.000276Z",
     "start_time": "2021-12-20T01:38:30.935278Z"
    }
   },
   "outputs": [
    {
     "data": {
      "text/plain": [
       "[[0, 0, -1],\n",
       " [0, 0, -1],\n",
       " [0, 0, -1],\n",
       " [0, 0, -1],\n",
       " [0, 0, -1],\n",
       " [0, 0, -1],\n",
       " [0, 0, -1],\n",
       " [0, 0, -1],\n",
       " [-1, 1, 0],\n",
       " [-1, -1, 1],\n",
       " [-1, 1, 0],\n",
       " [-1, -1, 1],\n",
       " [1, -1, 0],\n",
       " [1, -1, 0],\n",
       " [1, -1, 0],\n",
       " [-1, -1, 1],\n",
       " [-1, 1, 0],\n",
       " [1, -1, 0],\n",
       " [0, 0, -1],\n",
       " [1, 1, 1],\n",
       " [1, 1, 1],\n",
       " [1, -1, 0],\n",
       " [-1, -1, 1],\n",
       " [-1, -1, 1],\n",
       " [1, 1, 1],\n",
       " [1, -1, 0],\n",
       " [1, 1, 1],\n",
       " [-1, 1, 0],\n",
       " [-1, -1, 1],\n",
       " [1, -1, 0],\n",
       " [-1, 1, 0],\n",
       " [1, -1, 0],\n",
       " [-1, -1, 1],\n",
       " [-1, 1, 0],\n",
       " [-1, 1, 0],\n",
       " [1, 1, 1],\n",
       " [-1, -1, 1],\n",
       " [1, 1, 1],\n",
       " [1, -1, 0],\n",
       " [-1, -1, 1],\n",
       " [-1, -1, 1],\n",
       " [1, 1, 1],\n",
       " [-1, -1, 1],\n",
       " [-1, -1, 1],\n",
       " [1, 1, 1],\n",
       " [-1, -1, 1],\n",
       " [1, -1, 0],\n",
       " [-1, -1, 1],\n",
       " [1, 1, 1],\n",
       " [1, 1, 1],\n",
       " [1, -1, 0],\n",
       " [-1, 1, 0],\n",
       " [-1, 1, 0],\n",
       " [1, -1, 0],\n",
       " [-1, 1, 0],\n",
       " [1, 1, 1],\n",
       " [-1, 1, 0],\n",
       " [1, -1, 0],\n",
       " [-1, -1, 1],\n",
       " [1, 1, 1],\n",
       " [-1, 1, 0],\n",
       " [-1, 1, 0],\n",
       " [-1, -1, 1],\n",
       " [1, -1, 0],\n",
       " [1, 1, 1],\n",
       " [-1, -1, 1],\n",
       " [-1, 1, 0],\n",
       " [-1, -1, 1],\n",
       " [1, 1, 1],\n",
       " [-1, -1, 1],\n",
       " [-1, 1, 0],\n",
       " [-1, 1, 0],\n",
       " [1, 1, 1],\n",
       " [-1, 1, 0],\n",
       " [-1, -1, 1],\n",
       " [-1, 1, 0],\n",
       " [1, -1, 0],\n",
       " [-1, 1, 0],\n",
       " [-1, 1, 0],\n",
       " [-1, -1, 1],\n",
       " [-1, -1, 1],\n",
       " [-1, 1, 0],\n",
       " [-1, -1, 1],\n",
       " [1, 1, 1],\n",
       " [1, -1, 0],\n",
       " [1, -1, 0],\n",
       " [-1, -1, 1],\n",
       " [1, 1, 1],\n",
       " [1, -1, 0],\n",
       " [1, 1, 1],\n",
       " [1, 1, 1],\n",
       " [1, -1, 0],\n",
       " [1, -1, 0],\n",
       " [1, -1, 0],\n",
       " [-1, -1, 1],\n",
       " [-1, 1, 0],\n",
       " [1, 1, 1],\n",
       " [-1, -1, 1],\n",
       " [1, -1, 0],\n",
       " [1, -1, 0],\n",
       " [-1, 1, 0],\n",
       " [-1, -1, 1],\n",
       " [1, 1, 1],\n",
       " [-1, -1, 1],\n",
       " [-1, -1, 1],\n",
       " [1, 1, 1],\n",
       " [-1, -1, 1],\n",
       " [-1, -1, 1],\n",
       " [-1, 1, 0],\n",
       " [1, 1, 1],\n",
       " [-1, -1, 1],\n",
       " [-1, -1, 1],\n",
       " [-1, -1, 1],\n",
       " [1, -1, 0],\n",
       " [-1, -1, 1],\n",
       " [-1, 1, 0],\n",
       " [-1, -1, 1],\n",
       " [1, -1, 0],\n",
       " [-1, 1, 0],\n",
       " [-1, 1, 0],\n",
       " [1, 1, 1],\n",
       " [-1, 1, 0],\n",
       " [1, 1, 1],\n",
       " [-1, -1, 1],\n",
       " [1, -1, 0],\n",
       " [-1, -1, 1],\n",
       " [-1, -1, 1],\n",
       " [-1, -1, 1],\n",
       " [1, -1, 0],\n",
       " [-1, 1, 0],\n",
       " [-1, 1, 0],\n",
       " [1, 1, 1],\n",
       " [1, 1, 1],\n",
       " [1, -1, 0],\n",
       " [-1, 1, 0],\n",
       " [1, 1, 1],\n",
       " [1, 1, 1],\n",
       " [1, -1, 0],\n",
       " [-1, 1, 0],\n",
       " [1, -1, 0],\n",
       " [-1, 1, 0],\n",
       " [-1, 1, 0],\n",
       " [-1, -1, 1],\n",
       " [-1, 1, 0],\n",
       " [1, 1, 1],\n",
       " [1, -1, 0],\n",
       " [-1, -1, 1],\n",
       " [-1, -1, 1],\n",
       " [-1, 1, 0],\n",
       " [-1, 1, 0],\n",
       " [1, -1, 0],\n",
       " [-1, 1, 0],\n",
       " [-1, 1, 0],\n",
       " [1, 1, 1],\n",
       " [1, -1, 0],\n",
       " [1, 1, 1],\n",
       " [1, 1, 1],\n",
       " [-1, -1, 1],\n",
       " [-1, -1, 1],\n",
       " [-1, -1, 1],\n",
       " [-1, 1, 0],\n",
       " [-1, 1, 0],\n",
       " [-1, 1, 0],\n",
       " [1, 1, 1],\n",
       " [1, 1, 1],\n",
       " [-1, -1, 1],\n",
       " [-1, -1, 1],\n",
       " [-1, -1, 1],\n",
       " [-1, -1, 1],\n",
       " [1, 1, 1],\n",
       " [1, -1, 0],\n",
       " [-1, 1, 0],\n",
       " [-1, 1, 0],\n",
       " [1, -1, 0],\n",
       " [-1, -1, 1],\n",
       " [1, 1, 1],\n",
       " [1, 1, 1],\n",
       " [-1, -1, 1],\n",
       " [-1, -1, 1],\n",
       " [-1, 1, 0],\n",
       " [1, -1, 0],\n",
       " [-1, 1, 0],\n",
       " [-1, 1, 0],\n",
       " [1, 1, 1],\n",
       " [-1, 1, 0],\n",
       " [1, -1, 0],\n",
       " [-1, -1, 1],\n",
       " [1, -1, 0],\n",
       " [1, -1, 0],\n",
       " [-1, -1, 1],\n",
       " [-1, 1, 0],\n",
       " [-1, 1, 0],\n",
       " [1, 1, 1],\n",
       " [1, 1, 1],\n",
       " [-1, -1, 1],\n",
       " [1, 1, 1],\n",
       " [-1, 1, 0],\n",
       " [1, -1, 0],\n",
       " [-1, -1, 1],\n",
       " [-1, -1, 1],\n",
       " [1, -1, 0],\n",
       " [1, -1, 0],\n",
       " [1, 1, 1],\n",
       " [1, -1, 0],\n",
       " [-1, 1, 0],\n",
       " [1, 1, 1],\n",
       " [-1, 1, 0],\n",
       " [-1, -1, 1],\n",
       " [1, -1, 0],\n",
       " [-1, -1, 1],\n",
       " [-1, 1, 0],\n",
       " [-1, 1, 0],\n",
       " [-1, 1, 0],\n",
       " [-1, -1, 1],\n",
       " [-1, 1, 0],\n",
       " [1, 1, 1],\n",
       " [-1, -1, 1],\n",
       " [-1, -1, 1],\n",
       " [1, -1, 0],\n",
       " [1, 1, 1],\n",
       " [1, -1, 0],\n",
       " [1, -1, 0],\n",
       " [-1, -1, 1],\n",
       " [1, 1, 1],\n",
       " [1, -1, 0],\n",
       " [-1, -1, 1],\n",
       " [1, -1, 0],\n",
       " [1, 1, 1],\n",
       " [-1, 1, 0],\n",
       " [1, 1, 1],\n",
       " [1, -1, 0],\n",
       " [1, -1, 0],\n",
       " [-1, 1, 0],\n",
       " [1, -1, 0],\n",
       " [-1, 1, 0],\n",
       " [-1, -1, 1],\n",
       " [-1, 1, 0],\n",
       " [1, -1, 0],\n",
       " [-1, -1, 1],\n",
       " [-1, -1, 1],\n",
       " [-1, 1, 0],\n",
       " [1, 1, 1],\n",
       " [1, 1, 1],\n",
       " [1, 1, 1],\n",
       " [-1, -1, 1],\n",
       " [1, 1, 1],\n",
       " [-1, -1, 1],\n",
       " [1, 1, 1],\n",
       " [1, 1, 1],\n",
       " [-1, -1, 1],\n",
       " [1, -1, 0],\n",
       " [-1, 1, 0],\n",
       " [1, -1, 0],\n",
       " [1, -1, 0],\n",
       " [-1, 1, 0],\n",
       " [-1, -1, 1],\n",
       " [1, 1, 1],\n",
       " [1, -1, 0],\n",
       " [-1, 1, 0],\n",
       " [-1, -1, 1],\n",
       " [1, -1, 0],\n",
       " [1, -1, 0],\n",
       " [-1, -1, 1],\n",
       " [-1, -1, 1],\n",
       " [1, -1, 0],\n",
       " [-1, -1, 1],\n",
       " [-1, -1, 1],\n",
       " [-1, -1, 1],\n",
       " [-1, -1, 1],\n",
       " [1, -1, 0],\n",
       " [-1, 1, 0],\n",
       " [-1, 1, 0],\n",
       " [1, 1, 1],\n",
       " [-1, -1, 1],\n",
       " [-1, -1, 1],\n",
       " [1, 1, 1],\n",
       " [1, 1, 1],\n",
       " [1, -1, 0],\n",
       " [-1, 1, 0],\n",
       " [1, 1, 1],\n",
       " [1, 1, 1],\n",
       " [-1, 1, 0],\n",
       " [-1, 1, 0],\n",
       " [-1, -1, 1],\n",
       " [-1, -1, 1],\n",
       " [1, 1, 1],\n",
       " [-1, -1, 1],\n",
       " [-1, 1, 0],\n",
       " [1, 1, 1],\n",
       " [-1, -1, 1],\n",
       " [-1, 1, 0],\n",
       " [1, -1, 0],\n",
       " [-1, 1, 0],\n",
       " [1, 1, 1],\n",
       " [-1, -1, 1],\n",
       " [1, -1, 0],\n",
       " [-1, 1, 0],\n",
       " [-1, -1, 1],\n",
       " [1, 1, 1],\n",
       " [1, 1, 1],\n",
       " [-1, -1, 1],\n",
       " [-1, 1, 0],\n",
       " [1, 1, 1],\n",
       " [1, 1, 1],\n",
       " [1, -1, 0],\n",
       " [-1, -1, 1],\n",
       " [-1, 1, 0],\n",
       " [-1, -1, 1],\n",
       " [-1, 1, 0],\n",
       " [-1, -1, 1],\n",
       " [-1, -1, 1],\n",
       " [-1, -1, 1],\n",
       " [1, -1, 0],\n",
       " [-1, -1, 1],\n",
       " [-1, 1, 0],\n",
       " [1, -1, 0],\n",
       " [1, 1, 1],\n",
       " [-1, -1, 1],\n",
       " [-1, -1, 1],\n",
       " [1, 1, 1],\n",
       " [1, 1, 1],\n",
       " [-1, 1, 0],\n",
       " [1, 1, 1],\n",
       " [-1, 1, 0],\n",
       " [1, 1, 1],\n",
       " [1, -1, 0],\n",
       " [-1, -1, 1],\n",
       " [-1, -1, 1],\n",
       " [-1, 1, 0],\n",
       " [-1, 1, 0],\n",
       " [1, 1, 1],\n",
       " [1, -1, 0],\n",
       " [-1, -1, 1],\n",
       " [-1, 1, 0],\n",
       " [-1, -1, 1],\n",
       " [-1, 1, 0],\n",
       " [1, 1, 1],\n",
       " [-1, 1, 0],\n",
       " [1, 1, 1],\n",
       " [-1, -1, 1],\n",
       " [-1, -1, 1],\n",
       " [1, -1, 0],\n",
       " [1, 1, 1],\n",
       " [1, 1, 1],\n",
       " [-1, 1, 0],\n",
       " [-1, -1, 1],\n",
       " [-1, 1, 0],\n",
       " [1, 1, 1],\n",
       " [1, -1, 0],\n",
       " [1, 1, 1],\n",
       " [1, 1, 1],\n",
       " [1, -1, 0],\n",
       " [-1, 1, 0],\n",
       " [1, 1, 1],\n",
       " [-1, -1, 1],\n",
       " [-1, -1, 1],\n",
       " [-1, -1, 1],\n",
       " [-1, 1, 0],\n",
       " [-1, -1, 1],\n",
       " [-1, -1, 1],\n",
       " [1, 1, 1],\n",
       " [-1, 1, 0],\n",
       " [-1, -1, 1],\n",
       " [1, 1, 1],\n",
       " [-1, 1, 0],\n",
       " [-1, -1, 1],\n",
       " [1, -1, 0],\n",
       " [-1, 1, 0],\n",
       " [-1, -1, 1],\n",
       " [-1, -1, 1],\n",
       " [-1, -1, 1],\n",
       " [-1, 1, 0],\n",
       " [-1, 1, 0],\n",
       " [1, -1, 0],\n",
       " [1, 1, 1],\n",
       " [1, -1, 0],\n",
       " [1, -1, 0],\n",
       " [1, 1, 1],\n",
       " [1, 1, 1],\n",
       " [-1, -1, 1],\n",
       " [1, 1, 1],\n",
       " [-1, 1, 0],\n",
       " [-1, 1, 0],\n",
       " [1, -1, 0],\n",
       " [-1, -1, 1],\n",
       " [-1, -1, 1],\n",
       " [-1, -1, 1],\n",
       " [1, 1, 1],\n",
       " [-1, -1, 1],\n",
       " [-1, 1, 0],\n",
       " [-1, 1, 0],\n",
       " [-1, 1, 0],\n",
       " [-1, -1, 1],\n",
       " [1, 1, 1],\n",
       " [1, 1, 1],\n",
       " [1, -1, 0],\n",
       " [-1, -1, 1],\n",
       " [-1, 1, 0],\n",
       " [1, 1, 1],\n",
       " [-1, -1, 1],\n",
       " [-1, -1, 1],\n",
       " [-1, 1, 0],\n",
       " [-1, -1, 1],\n",
       " [1, 1, 1],\n",
       " [-1, 1, 0],\n",
       " [-1, 1, 0],\n",
       " [1, 1, 1],\n",
       " [-1, -1, 1],\n",
       " [1, 1, 1],\n",
       " [1, 1, 1],\n",
       " [-1, -1, 1],\n",
       " [1, 1, 1],\n",
       " [-1, -1, 1],\n",
       " [1, -1, 0],\n",
       " [-1, -1, 1],\n",
       " [-1, 1, 0],\n",
       " [-1, -1, 1],\n",
       " [1, -1, 0],\n",
       " [-1, -1, 1],\n",
       " [-1, 1, 0],\n",
       " [1, -1, 0],\n",
       " [-1, -1, 1],\n",
       " [-1, 1, 0],\n",
       " [-1, 1, 0],\n",
       " [-1, -1, 1],\n",
       " [-1, -1, 1],\n",
       " [1, -1, 0],\n",
       " [1, 1, 1],\n",
       " [1, -1, 0],\n",
       " [1, -1, 0],\n",
       " [1, 1, 1],\n",
       " [-1, -1, 1],\n",
       " [-1, -1, 1],\n",
       " [-1, 1, 0],\n",
       " [1, -1, 0],\n",
       " [1, 1, 1],\n",
       " [-1, -1, 1],\n",
       " [1, -1, 0],\n",
       " [-1, 1, 0],\n",
       " [-1, 1, 0],\n",
       " [-1, 1, 0],\n",
       " [-1, -1, 1],\n",
       " [1, 1, 1],\n",
       " [1, -1, 0],\n",
       " [1, 1, 1],\n",
       " [1, -1, 0],\n",
       " [-1, -1, 1],\n",
       " [1, -1, 0],\n",
       " [1, -1, 0],\n",
       " [-1, -1, 1],\n",
       " [1, -1, 0],\n",
       " [1, -1, 0],\n",
       " [-1, 1, 0],\n",
       " [-1, -1, 1],\n",
       " [-1, -1, 1],\n",
       " [-1, -1, 1],\n",
       " [-1, 1, 0],\n",
       " [-1, 1, 0],\n",
       " [-1, -1, 1],\n",
       " [-1, 1, 0],\n",
       " [-1, 1, 0],\n",
       " [1, 1, 1],\n",
       " [-1, 1, 0],\n",
       " [-1, 1, 0],\n",
       " [-1, 1, 0],\n",
       " [1, -1, 0],\n",
       " [-1, -1, 1],\n",
       " [1, -1, 0],\n",
       " [-1, -1, 1],\n",
       " [1, -1, 0],\n",
       " [-1, 1, 0],\n",
       " [-1, 1, 0],\n",
       " [-1, -1, 1],\n",
       " [1, -1, 0],\n",
       " [-1, 1, 0],\n",
       " [-1, 1, 0],\n",
       " [1, 1, 1],\n",
       " [1, -1, 0],\n",
       " [-1, -1, 1],\n",
       " [1, -1, 0],\n",
       " [-1, -1, 1],\n",
       " [1, 1, 1],\n",
       " [-1, 1, 0],\n",
       " [1, 1, 1],\n",
       " [-1, 1, 0],\n",
       " [1, -1, 0],\n",
       " [1, 1, 1],\n",
       " [1, -1, 0],\n",
       " [1, -1, 0],\n",
       " [-1, -1, 1],\n",
       " [-1, 1, 0],\n",
       " [1, 1, 1],\n",
       " [-1, -1, 1],\n",
       " [-1, -1, 1],\n",
       " [1, -1, 0],\n",
       " [-1, 1, 0],\n",
       " [1, 1, 1],\n",
       " [1, 1, 1],\n",
       " [1, -1, 0],\n",
       " [-1, 1, 0],\n",
       " [-1, 1, 0],\n",
       " [1, 1, 1],\n",
       " [1, 1, 1],\n",
       " [-1, 1, 0],\n",
       " [-1, -1, 1],\n",
       " [-1, 1, 0],\n",
       " [-1, 1, 0],\n",
       " [-1, 1, 0],\n",
       " [-1, -1, 1],\n",
       " [1, 1, 1],\n",
       " [1, 1, 1],\n",
       " [-1, 1, 0],\n",
       " [1, 1, 1],\n",
       " [-1, -1, 1],\n",
       " [-1, -1, 1],\n",
       " [1, 1, 1],\n",
       " [1, -1, 0],\n",
       " [-1, 1, 0],\n",
       " [-1, 1, 0],\n",
       " [1, 1, 1],\n",
       " [1, -1, 0],\n",
       " [-1, 1, 0],\n",
       " [1, 1, 1],\n",
       " [-1, -1, 1],\n",
       " [1, -1, 0],\n",
       " [-1, -1, 1],\n",
       " [1, 1, 1],\n",
       " [1, 1, 1],\n",
       " [-1, 1, 0],\n",
       " [-1, -1, 1],\n",
       " [1, 1, 1],\n",
       " [-1, 1, 0],\n",
       " [-1, -1, 1],\n",
       " [1, 1, 1],\n",
       " [1, 1, 1],\n",
       " [-1, -1, 1],\n",
       " [1, 1, 1],\n",
       " [-1, -1, 1],\n",
       " [-1, -1, 1],\n",
       " [1, -1, 0],\n",
       " [-1, 1, 0],\n",
       " [-1, 1, 0],\n",
       " [1, -1, 0],\n",
       " [-1, 1, 0],\n",
       " [1, 1, 1],\n",
       " [-1, -1, 1],\n",
       " [1, -1, 0],\n",
       " [-1, 1, 0],\n",
       " [-1, -1, 1],\n",
       " [-1, -1, 1],\n",
       " [1, -1, 0],\n",
       " [-1, -1, 1],\n",
       " [-1, -1, 1],\n",
       " [1, 1, 1],\n",
       " [-1, 1, 0],\n",
       " [-1, 1, 0],\n",
       " [-1, -1, 1],\n",
       " [1, 1, 1],\n",
       " [-1, -1, 1],\n",
       " [1, -1, 0],\n",
       " [1, -1, 0],\n",
       " [-1, 1, 0],\n",
       " [1, -1, 0],\n",
       " [1, 1, 1],\n",
       " [1, 1, 1],\n",
       " [-1, -1, 1],\n",
       " [-1, -1, 1],\n",
       " [-1, 1, 0],\n",
       " [-1, 1, 0],\n",
       " [1, -1, 0],\n",
       " [1, -1, 0],\n",
       " [-1, 1, 0],\n",
       " [1, -1, 0],\n",
       " [1, -1, 0],\n",
       " [-1, -1, 1],\n",
       " [-1, -1, 1],\n",
       " [-1, -1, 1],\n",
       " [1, 1, 1],\n",
       " [-1, -1, 1],\n",
       " [1, -1, 0],\n",
       " [-1, 1, 0],\n",
       " [-1, 1, 0],\n",
       " [-1, 1, 0],\n",
       " [-1, -1, 1],\n",
       " [1, 1, 1],\n",
       " [-1, -1, 1],\n",
       " [1, 1, 1],\n",
       " [-1, -1, 1],\n",
       " [1, 1, 1],\n",
       " [-1, -1, 1],\n",
       " [1, -1, 0],\n",
       " [-1, 1, 0],\n",
       " [-1, -1, 1],\n",
       " [-1, -1, 1],\n",
       " [1, 1, 1],\n",
       " [-1, -1, 1],\n",
       " [-1, -1, 1],\n",
       " [1, -1, 0],\n",
       " [0, 0, -1],\n",
       " [1, -1, 0],\n",
       " [1, -1, 0],\n",
       " [1, -1, 0],\n",
       " [1, -1, 0],\n",
       " [1, -1, 0],\n",
       " [-1, 1, 0],\n",
       " [-1, 1, 0],\n",
       " [-1, -1, 1],\n",
       " [1, -1, 0],\n",
       " [1, 1, 1],\n",
       " [1, -1, 0],\n",
       " [-1, -1, 1],\n",
       " [-1, 1, 0],\n",
       " [1, -1, 0],\n",
       " [-1, -1, 1],\n",
       " [1, -1, 0],\n",
       " [-1, -1, 1],\n",
       " [-1, 1, 0],\n",
       " [-1, 1, 0],\n",
       " [-1, 1, 0],\n",
       " [-1, -1, 1],\n",
       " [1, 1, 1],\n",
       " [1, 1, 1],\n",
       " [1, 1, 1],\n",
       " [-1, 1, 0],\n",
       " [1, 1, 1],\n",
       " [-1, -1, 1],\n",
       " [-1, -1, 1],\n",
       " [1, 1, 1],\n",
       " [1, -1, 0],\n",
       " [1, 1, 1],\n",
       " [-1, 1, 0],\n",
       " [-1, 1, 0],\n",
       " [1, 1, 1],\n",
       " [1, 1, 1],\n",
       " [-1, -1, 1],\n",
       " [1, -1, 0],\n",
       " [-1, -1, 1],\n",
       " [-1, -1, 1],\n",
       " [-1, 1, 0],\n",
       " [-1, -1, 1],\n",
       " [-1, -1, 1],\n",
       " [-1, -1, 1],\n",
       " [1, -1, 0],\n",
       " [1, 1, 1],\n",
       " [-1, 1, 0],\n",
       " [1, -1, 0],\n",
       " [1, -1, 0],\n",
       " [-1, -1, 1],\n",
       " [-1, -1, 1],\n",
       " [-1, 1, 0],\n",
       " [-1, 1, 0],\n",
       " [-1, 1, 0],\n",
       " [1, 1, 1],\n",
       " [1, -1, 0],\n",
       " [-1, -1, 1],\n",
       " [-1, -1, 1],\n",
       " [-1, 1, 0],\n",
       " [-1, 1, 0],\n",
       " [-1, 1, 0],\n",
       " [-1, 1, 0],\n",
       " [1, 1, 1],\n",
       " [1, -1, 0],\n",
       " [1, -1, 0],\n",
       " [-1, -1, 1],\n",
       " [-1, 1, 0],\n",
       " [-1, -1, 1],\n",
       " [1, -1, 0],\n",
       " [-1, -1, 1],\n",
       " [1, 1, 1],\n",
       " [-1, 1, 0],\n",
       " [-1, -1, 1],\n",
       " [-1, 1, 0],\n",
       " [-1, 1, 0],\n",
       " [-1, -1, 1],\n",
       " [-1, 1, 0],\n",
       " [-1, -1, 1],\n",
       " [-1, -1, 1],\n",
       " [-1, 1, 0],\n",
       " [-1, 1, 0],\n",
       " [-1, 1, 0],\n",
       " [-1, -1, 1],\n",
       " [1, -1, 0],\n",
       " [-1, -1, 1],\n",
       " [-1, -1, 1],\n",
       " [-1, 1, 0],\n",
       " [-1, 1, 0],\n",
       " [1, -1, 0],\n",
       " [1, -1, 0],\n",
       " [1, 1, 1],\n",
       " [1, 1, 1],\n",
       " [-1, 1, 0],\n",
       " [1, -1, 0],\n",
       " [-1, -1, 1],\n",
       " [1, -1, 0],\n",
       " [-1, -1, 1],\n",
       " [1, -1, 0],\n",
       " [-1, 1, 0],\n",
       " [-1, -1, 1],\n",
       " [1, 1, 1],\n",
       " [-1, -1, 1],\n",
       " [-1, -1, 1],\n",
       " [1, -1, 0],\n",
       " [-1, -1, 1],\n",
       " [-1, 1, 0],\n",
       " [-1, 1, 0],\n",
       " [-1, 1, 0],\n",
       " [1, -1, 0],\n",
       " [-1, -1, 1],\n",
       " [1, 1, 1],\n",
       " [-1, -1, 1],\n",
       " [1, 1, 1],\n",
       " [-1, 1, 0],\n",
       " [-1, -1, 1],\n",
       " [-1, 1, 0],\n",
       " [-1, -1, 1],\n",
       " [-1, 1, 0],\n",
       " [1, -1, 0],\n",
       " [-1, 1, 0],\n",
       " [1, -1, 0],\n",
       " [-1, -1, 1],\n",
       " [-1, -1, 1],\n",
       " [-1, 1, 0],\n",
       " [-1, -1, 1],\n",
       " [-1, -1, 1],\n",
       " [-1, 1, 0],\n",
       " [-1, 1, 0],\n",
       " [1, 1, 1],\n",
       " [-1, 1, 0],\n",
       " [1, 1, 1],\n",
       " [1, 1, 1],\n",
       " [-1, 1, 0],\n",
       " [-1, -1, 1],\n",
       " [1, -1, 0],\n",
       " [-1, -1, 1],\n",
       " [-1, -1, 1],\n",
       " [1, 1, 1],\n",
       " [-1, -1, 1],\n",
       " [-1, 1, 0],\n",
       " [-1, 1, 0],\n",
       " [-1, -1, 1],\n",
       " [-1, -1, 1],\n",
       " [1, 1, 1],\n",
       " [-1, -1, 1],\n",
       " [-1, -1, 1],\n",
       " [1, 1, 1],\n",
       " [1, -1, 0],\n",
       " [1, -1, 0],\n",
       " [1, -1, 0],\n",
       " [1, 1, 1],\n",
       " [1, -1, 0],\n",
       " [-1, -1, 1],\n",
       " [-1, -1, 1],\n",
       " [1, -1, 0],\n",
       " [1, 1, 1],\n",
       " [1, -1, 0],\n",
       " [-1, -1, 1],\n",
       " [1, 1, 1],\n",
       " [-1, 1, 0],\n",
       " [-1, 1, 0],\n",
       " [1, 1, 1],\n",
       " [1, -1, 0],\n",
       " [-1, -1, 1],\n",
       " [-1, 1, 0],\n",
       " [1, 1, 1],\n",
       " [-1, -1, 1],\n",
       " [1, 1, 1],\n",
       " [1, -1, 0],\n",
       " [-1, -1, 1],\n",
       " [-1, 1, 0],\n",
       " [1, -1, 0],\n",
       " [-1, -1, 1],\n",
       " [1, -1, 0],\n",
       " [-1, -1, 1],\n",
       " [1, 1, 1],\n",
       " [-1, -1, 1],\n",
       " [-1, 1, 0],\n",
       " [-1, 1, 0],\n",
       " [-1, 1, 0],\n",
       " [-1, -1, 1],\n",
       " [1, 1, 1],\n",
       " [-1, -1, 1],\n",
       " [1, -1, 0],\n",
       " [-1, -1, 1],\n",
       " [-1, -1, 1],\n",
       " [-1, -1, 1],\n",
       " [-1, -1, 1],\n",
       " [-1, 1, 0],\n",
       " [1, -1, 0],\n",
       " [1, 1, 1],\n",
       " [-1, 1, 0],\n",
       " [-1, 1, 0],\n",
       " [-1, 1, 0],\n",
       " [1, 1, 1],\n",
       " [-1, 1, 0],\n",
       " [-1, -1, 1],\n",
       " [-1, -1, 1],\n",
       " [-1, 1, 0],\n",
       " [1, -1, 0],\n",
       " [1, -1, 0],\n",
       " [-1, 1, 0],\n",
       " [-1, -1, 1],\n",
       " [-1, 1, 0],\n",
       " [1, -1, 0],\n",
       " [-1, 1, 0],\n",
       " [1, 1, 1],\n",
       " [1, 1, 1],\n",
       " [1, 1, 1],\n",
       " [1, -1, 0],\n",
       " [-1, -1, 1],\n",
       " [-1, -1, 1],\n",
       " [1, -1, 0],\n",
       " [-1, 1, 0],\n",
       " [-1, -1, 1],\n",
       " [1, -1, 0],\n",
       " [1, 1, 1],\n",
       " [1, 1, 1],\n",
       " [-1, 1, 0],\n",
       " [1, 1, 1],\n",
       " [-1, -1, 1],\n",
       " [1, 1, 1],\n",
       " [1, 1, 1],\n",
       " [-1, -1, 1],\n",
       " [1, -1, 0],\n",
       " [-1, 1, 0],\n",
       " [-1, 1, 0],\n",
       " [-1, 1, 0],\n",
       " [1, 1, 1],\n",
       " [-1, -1, 1],\n",
       " [-1, 1, 0],\n",
       " [1, -1, 0],\n",
       " [-1, -1, 1],\n",
       " [-1, 1, 0],\n",
       " [-1, -1, 1],\n",
       " [1, -1, 0],\n",
       " [-1, -1, 1],\n",
       " [1, 1, 1],\n",
       " [1, -1, 0],\n",
       " [-1, 1, 0],\n",
       " [-1, 1, 0],\n",
       " [-1, -1, 1],\n",
       " [1, -1, 0],\n",
       " [-1, -1, 1],\n",
       " [1, -1, 0],\n",
       " [1, -1, 0],\n",
       " [-1, 1, 0],\n",
       " [-1, -1, 1],\n",
       " [-1, -1, 1],\n",
       " [-1, -1, 1],\n",
       " [-1, -1, 1],\n",
       " [-1, -1, 1],\n",
       " [1, -1, 0],\n",
       " [1, -1, 0],\n",
       " [1, -1, 0],\n",
       " [1, 1, 1],\n",
       " [1, 1, 1],\n",
       " [-1, -1, 1],\n",
       " [1, 1, 1],\n",
       " [1, 1, 1],\n",
       " [1, 1, 1],\n",
       " [1, 1, 1],\n",
       " [1, -1, 0],\n",
       " [1, -1, 0],\n",
       " [-1, 1, 0],\n",
       " [-1, -1, 1],\n",
       " [1, -1, 0],\n",
       " [-1, -1, 1],\n",
       " [1, 1, 1],\n",
       " [1, -1, 0],\n",
       " [-1, -1, 1],\n",
       " [1, 1, 1],\n",
       " [-1, 1, 0],\n",
       " [-1, -1, 1],\n",
       " [1, 1, 1],\n",
       " [1, -1, 0],\n",
       " [-1, 1, 0],\n",
       " [-1, 1, 0],\n",
       " [1, 1, 1],\n",
       " [-1, -1, 1],\n",
       " [1, 1, 1],\n",
       " [-1, 1, 0],\n",
       " [1, -1, 0],\n",
       " [1, -1, 0],\n",
       " [-1, 1, 0],\n",
       " [-1, 1, 0],\n",
       " [-1, -1, 1],\n",
       " [1, 1, 1],\n",
       " [-1, 1, 0],\n",
       " [1, 1, 1],\n",
       " [1, -1, 0],\n",
       " [1, 1, 1],\n",
       " [1, 1, 1],\n",
       " [-1, -1, 1],\n",
       " [1, 1, 1],\n",
       " [1, 1, 1],\n",
       " [1, -1, 0],\n",
       " [-1, -1, 1],\n",
       " [-1, -1, 1],\n",
       " [-1, -1, 1],\n",
       " [-1, -1, 1],\n",
       " [-1, 1, 0],\n",
       " [-1, -1, 1],\n",
       " [1, -1, 0],\n",
       " [-1, 1, 0],\n",
       " [1, 1, 1],\n",
       " [-1, -1, 1],\n",
       " [-1, -1, 1],\n",
       " [1, -1, 0],\n",
       " [1, 1, 1],\n",
       " [-1, -1, 1],\n",
       " [1, 1, 1],\n",
       " [-1, 1, 0],\n",
       " [-1, 1, 0],\n",
       " [-1, -1, 1],\n",
       " [-1, 1, 0],\n",
       " [1, 1, 1],\n",
       " [1, -1, 0],\n",
       " [-1, -1, 1],\n",
       " [-1, 1, 0],\n",
       " [-1, 1, 0],\n",
       " [-1, 1, 0],\n",
       " [1, 1, 1],\n",
       " [1, -1, 0],\n",
       " [1, 1, 1],\n",
       " [-1, 1, 0],\n",
       " [-1, 1, 0],\n",
       " [-1, 1, 0],\n",
       " [-1, -1, 1],\n",
       " [-1, -1, 1],\n",
       " [-1, 1, 0],\n",
       " [-1, 1, 0],\n",
       " [1, -1, 0],\n",
       " [1, -1, 0],\n",
       " [-1, -1, 1],\n",
       " [-1, 1, 0],\n",
       " [1, 1, 1],\n",
       " [-1, -1, 1],\n",
       " [-1, -1, 1],\n",
       " [-1, -1, 1],\n",
       " [-1, -1, 1],\n",
       " [-1, 1, 0],\n",
       " [1, 1, 1],\n",
       " [1, 1, 1],\n",
       " [1, 1, 1],\n",
       " [-1, -1, 1],\n",
       " [1, 1, 1],\n",
       " [-1, 1, 0],\n",
       " [1, 1, 1],\n",
       " [-1, 1, 0],\n",
       " [-1, 1, 0],\n",
       " [-1, -1, 1],\n",
       " [1, 1, 1],\n",
       " [-1, -1, 1],\n",
       " [-1, -1, 1],\n",
       " [1, -1, 0],\n",
       " [-1, -1, 1],\n",
       " [-1, -1, 1],\n",
       " [-1, 1, 0],\n",
       " [-1, -1, 1],\n",
       " [1, 1, 1],\n",
       " [-1, 1, 0],\n",
       " [1, -1, 0],\n",
       " [-1, -1, 1],\n",
       " [1, -1, 0],\n",
       " [-1, -1, 1],\n",
       " [-1, -1, 1],\n",
       " [1, -1, 0],\n",
       " [1, -1, 0],\n",
       " [1, -1, 0],\n",
       " [-1, 1, 0],\n",
       " [-1, 1, 0],\n",
       " [1, -1, 0],\n",
       " [1, -1, 0],\n",
       " [1, 1, 1],\n",
       " [-1, -1, 1],\n",
       " [-1, 1, 0],\n",
       " [-1, 1, 0],\n",
       " [-1, -1, 1],\n",
       " [1, 1, 1],\n",
       " [-1, 1, 0],\n",
       " [-1, 1, 0],\n",
       " [0, 0, -1],\n",
       " [1, 1, 1],\n",
       " [-1, -1, 1],\n",
       " [1, 1, 1],\n",
       " [-1, -1, 1],\n",
       " [-1, 1, 0],\n",
       " [-1, 1, 0],\n",
       " [-1, -1, 1],\n",
       " [-1, 1, 0],\n",
       " [-1, 1, 0],\n",
       " [1, 1, 1],\n",
       " [1, 1, 1],\n",
       " [1, -1, 0],\n",
       " [1, -1, 0],\n",
       " [-1, 1, 0],\n",
       " [1, 1, 1],\n",
       " [1, 1, 1],\n",
       " [-1, 1, 0],\n",
       " [-1, 1, 0],\n",
       " [-1, 1, 0],\n",
       " ...]"
      ]
     },
     "execution_count": 106,
     "metadata": {},
     "output_type": "execute_result"
    }
   ],
   "source": [
    "[encode_sequences(x[\"sequence\"]) for x in dataset][0]"
   ]
  },
  {
   "cell_type": "code",
   "execution_count": null,
   "id": "638ff7dd",
   "metadata": {},
   "outputs": [],
   "source": []
  }
 ],
 "metadata": {
  "kernelspec": {
   "display_name": "conda datascience",
   "language": "python",
   "name": "conda_datascience"
  },
  "language_info": {
   "codemirror_mode": {
    "name": "ipython",
    "version": 3
   },
   "file_extension": ".py",
   "mimetype": "text/x-python",
   "name": "python",
   "nbconvert_exporter": "python",
   "pygments_lexer": "ipython3",
   "version": "3.7.9"
  }
 },
 "nbformat": 4,
 "nbformat_minor": 5
}
