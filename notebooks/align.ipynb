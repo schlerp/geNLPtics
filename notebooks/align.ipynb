{
 "cells": [
  {
   "cell_type": "code",
   "execution_count": 138,
   "metadata": {},
   "outputs": [],
   "source": [
    "import random\n",
    "import re\n",
    "from typing import Dict, Tuple"
   ]
  },
  {
   "cell_type": "code",
   "execution_count": 1,
   "metadata": {},
   "outputs": [],
   "source": [
    "sequence_a = \"AGTCGACCAGTGGGTATA\"\n",
    "sequence_b = \"GCAGTCGTACCAAGTGGG\"\n",
    "aligned_a  = \"..AGTCG.ACCA.GTGGGTATA\"\n",
    "aligned_b  = \"GCAGTCGTACCAAGTGGG....\""
   ]
  },
  {
   "cell_type": "code",
   "execution_count": 130,
   "metadata": {},
   "outputs": [],
   "source": [
    "def score_sequences(a: str, b: str):\n",
    "    assert len(a) == len(b)\n",
    "    score = 0\n",
    "    for i in range(len(a)):\n",
    "        if a[i] == \".\" or b[i] == \".\":\n",
    "            score += 0.1\n",
    "        elif a[i] == b[i]:\n",
    "            score += 1\n",
    "        else:\n",
    "            score += 0\n",
    "    return score / (len(a) * 1.1)"
   ]
  },
  {
   "cell_type": "code",
   "execution_count": 131,
   "metadata": {},
   "outputs": [
    {
     "name": "stdout",
     "output_type": "stream",
     "text": [
      "0.15151515151515152\n"
     ]
    }
   ],
   "source": [
    "score = score_sequences(sequence_a, sequence_b)\n",
    "print(score)"
   ]
  },
  {
   "cell_type": "code",
   "execution_count": 132,
   "metadata": {},
   "outputs": [
    {
     "name": "stdout",
     "output_type": "stream",
     "text": [
      "0.6115702479338841\n"
     ]
    }
   ],
   "source": [
    "score = score_sequences(aligned_a, aligned_b)\n",
    "print(score)"
   ]
  },
  {
   "cell_type": "code",
   "execution_count": 133,
   "metadata": {},
   "outputs": [],
   "source": [
    "def append_end(x: str, insert_char: str = \".\"):\n",
    "    return x + insert_char\n",
    "\n",
    "def append_start(x: str, insert_char: str = \".\"):\n",
    "    return insert_char + x\n",
    "\n",
    "def insert_random(x: str, insert_char: str = \".\"):\n",
    "    random_index = random.randint(0, len(x)-1)\n",
    "    return x[:random_index] + insert_char + x[random_index:]\n",
    "\n",
    "def remove_random_space(x: str, insert_char: str = \"\\.\"):\n",
    "    indexes = [y.start() for y in re.finditer(insert_char, x)]\n",
    "    if not indexes:\n",
    "        return x\n",
    "    random_index = random.choice(indexes)\n",
    "    return x[:random_index] + x[random_index+1:]\n",
    "\n",
    "def trim_extra_gaps(a, b, insert_char: str = \".\"):\n",
    "    new_a = \"\"\n",
    "    new_b = \"\"\n",
    "    for i in range(len(a)):\n",
    "        if a[i] == insert_char and b[i] == insert_char:\n",
    "            pass\n",
    "        else:\n",
    "            new_a += a[i]\n",
    "            new_b += b[i]\n",
    "    return new_a, new_b"
   ]
  },
  {
   "cell_type": "code",
   "execution_count": 134,
   "metadata": {},
   "outputs": [
    {
     "name": "stdout",
     "output_type": "stream",
     "text": [
      "ab\n"
     ]
    }
   ],
   "source": [
    "# s = \"aa\"\n",
    "# print(append_end(s))\n",
    "# print(append_start(s))\n",
    "# print(insert_random(s))\n",
    "print(remove_random_space(\"a.b\"))"
   ]
  },
  {
   "cell_type": "code",
   "execution_count": 136,
   "metadata": {},
   "outputs": [
    {
     "name": "stdout",
     "output_type": "stream",
     "text": [
      "score increased from 0.15151515151515152 to 0.15311004784688995\n",
      "score increased from 0.15311004784688995 to 0.1954545454545455\n",
      "score increased from 0.1954545454545455 to 0.23809523809523808\n",
      "score increased from 0.23809523809523808 to 0.2768595041322313\n",
      "AG.TCGAC.CAGTG.GGTATA\n",
      ".GCA.GTCGTA.CCAAGTGGG\n"
     ]
    }
   ],
   "source": [
    "a = sequence_a\n",
    "b = sequence_b\n",
    "\n",
    "i = 0\n",
    "while i < 1000000:\n",
    "    i += 1\n",
    "    score = score_sequences(a, b)\n",
    "    # if random.random() > 0.5:\n",
    "        # add char\n",
    "    funcs = [append_start, append_end, insert_random]\n",
    "    a_new = random.choice(funcs)(a)\n",
    "    b_new = random.choice(funcs)(b)\n",
    "    # else:\n",
    "    #     # remove char\n",
    "    #     a_new = remove_random_space(a)\n",
    "    #     b_new = remove_random_space(b)\n",
    "\n",
    "    new_score = score_sequences(a_new, b_new)\n",
    "    if new_score > score:\n",
    "        print(\"score increased from {} to {}\".format(score, new_score))\n",
    "        a = a_new\n",
    "        b = b_new\n",
    "    # if new_score >= 1.0:\n",
    "    #     break\n",
    "    # if i % 250 == 0:\n",
    "    #     a, b = trim_extra_gaps(a, b)\n",
    "\n",
    "a, b = trim_extra_gaps(a, b)\n",
    "print(a)\n",
    "print(b)\n"
   ]
  },
  {
   "cell_type": "code",
   "execution_count": 145,
   "metadata": {},
   "outputs": [
    {
     "name": "stdout",
     "output_type": "stream",
     "text": [
      "{(0, 0): {'p1': 0, 'p2': 0, 'match_type': 1, 'prs': 0, 't_max': 0, 't_min': 0}}\n"
     ]
    }
   ],
   "source": [
    "class Node:\n",
    "    def __init__(self, \n",
    "        p1: int,\n",
    "        p2: int,\n",
    "        match_type: int,\n",
    "        prs: int,\n",
    "        t_max: int,\n",
    "        t_min: int,\n",
    "    ):\n",
    "        self.p1 = p1\n",
    "        self.p2 = p2\n",
    "        self.match_type = match_type\n",
    "        self.prs = prs\n",
    "        self.t_max = t_max\n",
    "        self.t_min = t_min\n",
    "\n",
    "    def __str__(self):\n",
    "        return str(self.__dict__)\n",
    "\n",
    "    def __repr__(self):\n",
    "        return self.__str__()\n",
    "\n",
    "def calc_f_max(x1: int, x2: int, ms: int, g: int):\n",
    "    if x2 < x1:\n",
    "        return x2 * (ms + g) * (x1 - x2)\n",
    "    return x1 * (ms + g) * (x2 - x1)\n",
    "\n",
    "def calc_f_min(x1: int, x2: int, m: int, g: int):\n",
    "    if x2 < x1:\n",
    "        return x2 * (m + g) * (x1 - x2)\n",
    "    return x1 * (m + g) * (x2 - x1)\n",
    "\n",
    "\n",
    "def create_node(s1: str, s2: str, p1: int, p2: int, match_type: int, prs: int, match_score: int = 1, mismatch_score: int = -1, gap_penalty: int = -2):\n",
    "    # get fitness scores\n",
    "    m = len(s1)\n",
    "    n = len(s2)\n",
    "    x1 = n-p2\n",
    "    x2 = m-p1\n",
    "    f_min = calc_f_min(x1, x2, mismatch_score, gap_penalty)\n",
    "    f_max = calc_f_max(x1, x2, match_score, gap_penalty)\n",
    "    return Node(p1, p2, match_type, prs, prs+f_max, prs+f_min)\n",
    "\n",
    "\n",
    "def solve_fogsaa(s1: str, s2: str, match_score: int = 1, mismatch_score: int = -1, gap_penalty: int = -2):\n",
    "    p1 = 0\n",
    "    p2 = 0\n",
    "    \n",
    "    history: Dict[Tuple(int, int), Node] = {}\n",
    "\n",
    "    prs = 0\n",
    "\n",
    "    history[(p1, p2)] = create_node(s1, s2, p1, p2, match_type=1, prs=prs)\n",
    "    \n",
    "\n",
    "    while True:\n",
    "        \n",
    "\n",
    "    print(history)\n",
    "\n",
    "solve_fogsaa(\"AGTAGTAGT\", \"ATGAGTAGT\")"
   ]
  },
  {
   "cell_type": "code",
   "execution_count": null,
   "metadata": {},
   "outputs": [],
   "source": []
  }
 ],
 "metadata": {
  "interpreter": {
   "hash": "3d597f4c481aa0f25dceb95d2a0067e73c0966dcbd003d741d821a7208527ecf"
  },
  "kernelspec": {
   "display_name": "Python 3.8.5 64-bit ('base': conda)",
   "language": "python",
   "name": "python3"
  },
  "language_info": {
   "codemirror_mode": {
    "name": "ipython",
    "version": 3
   },
   "file_extension": ".py",
   "mimetype": "text/x-python",
   "name": "python",
   "nbconvert_exporter": "python",
   "pygments_lexer": "ipython3",
   "version": "3.8.5"
  },
  "orig_nbformat": 4
 },
 "nbformat": 4,
 "nbformat_minor": 2
}
